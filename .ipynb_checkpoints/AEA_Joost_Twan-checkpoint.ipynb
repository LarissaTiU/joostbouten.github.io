{
 "cells": [
  {
   "cell_type": "markdown",
   "metadata": {},
   "source": [
    "# Applied Economic Analysis: Python Assignment <a id='begin'></a>\n",
    "\n",
    "|Name|ANR|\n",
    "|----|-------|\n",
    "|Joost Bouten|132978|\n",
    "|Twan Vissers|495770|"
   ]
  },
  {
   "cell_type": "markdown",
   "metadata": {},
   "source": [
    "![image](https://criptonetwork.com/wp-content/uploads/2017/05/coins1.png)"
   ]
  },
  {
   "cell_type": "markdown",
   "metadata": {},
   "source": [
    "# Exploring the world of cryptocurrencies\n",
    "\n",
    "This page is for educational purposes and should not be mistaken for investment advice.\n",
    "The python code and data used here can be found at [github](https://github.com/joostbouten/assignments/tree/master/Final%20Assignment%20)."
   ]
  },
  {
   "cell_type": "markdown",
   "metadata": {},
   "source": [
    "## Questions\n",
    "\n",
    "- Out of the ten most valuable cryptocurrencies, which would be the best investment according to the [Sharpe ratio](https://web.stanford.edu/~wfsharpe/art/sr/sr.htm)? \n",
    "- Within the market for cryptocurrencies, what is the relation between average returns and volatility of prices?\n",
    "- What would a machine learning algorithm predict for the price of a cryptocurrency, given that it only bases its prediction on historical price data? "
   ]
  },
  {
   "cell_type": "markdown",
   "metadata": {},
   "source": [
    "### Motivation\n",
    "\n",
    "Cryptocurrencies are a hot topic. Since the hype around Bitcoin started, many entrepreneurs have taken a shot at developing their own coin or other product based on the blockchain technology. \n",
    "\n",
    "Being somewhat skeptical about the underlying value of cryptocurrencies, we aim to demonstrate effect of the incredible volatility that this market faces. By analyzing historical price data we hope to gain further insight in this market, as it still seems fuzzy to many people. "
   ]
  },
  {
   "cell_type": "markdown",
   "metadata": {},
   "source": [
    "### Method\n",
    "\n",
    "1. We will start of by importing the data, and performing some graphical as well as numerical exploratory data analysis. \n",
    "2. Secondly, we will go on to some investment analysis, where we try to distinguish the best investment pick out of the three most valueable cryptocurrencies using the Sharpe ratio as our metric and the S&P 500 as our benchmark. \n",
    "3. Thirdly, we like to get insight into the relation between volatility and return within the cryptocurrency market by plotting a regression line through datapoints for hundreds of cryptocurrencies. We will try to provide further insight into these datapoints by making an interactive plot using the Bokeh package. \n",
    "4. Lastly, we will naively try to estimate future cryptocurrency prices using historical price data as an input to a machine learning algorithm. We will construct a function where the symbol of a cryptocurrency along with a given number of days can be used as an input to plot the prediction of the algorithm next to the historical pricing data."
   ]
  },
  {
   "cell_type": "markdown",
   "metadata": {},
   "source": [
    "### Answer\n",
    "\n",
    "- According to the Sharpe ratio, the best pick out of the top three cryptocurrencies seems to be Ethereum. This result can be found [here](#sharpe).\n",
    "- The relation between average returns and volatility is positive, this can clearly be concluded from the [graph](#regression).\n",
    "- We find that the prediction that is made by the algorithm may be as good as random. However, we do find some interesting results and the graphs give us some clear insights into the volatility of the blockchain currency market. For example, see [here](#ripple) what happens when we predict Ripple prices 25 days into the future. "
   ]
  },
  {
   "cell_type": "markdown",
   "metadata": {},
   "source": [
    "## Assumptions and limitations\n",
    "\n",
    "Our benchmark for calculating the Sharpe ratio allows us only to compare against closing prices in normal weekdays, therefor we have decided to drop price data for days in which the US stock markets are closed for the sake of simplicity.\n",
    "\n",
    "We evaluate the investment decision problem using 2017 daily closing rates. These data are likely not at all a good representation of prices in future periods. The market of cryptocurrencies is subject to great debate and speculation as their true value is still very much unclear.\n",
    "\n",
    "The machine learning algorithm bases its prediction merely on historical price data, it therefore shows results that are very likely not a good representation of reality. "
   ]
  },
  {
   "cell_type": "markdown",
   "metadata": {
    "collapsed": true
   },
   "source": [
    "## Importing libraries and data"
   ]
  },
  {
   "cell_type": "code",
   "execution_count": 1,
   "metadata": {},
   "outputs": [],
   "source": [
    "# Importing the libraries\n",
    "import numpy as np\n",
    "import matplotlib.pyplot as plt\n",
    "import pandas as pd\n",
    "import seaborn as sns\n",
    "from pandas_datareader.data import DataReader \n",
    "from datetime import date\n",
    "from matplotlib.ticker import FuncFormatter\n",
    "from matplotlib import rcParams\n",
    "from bokeh.plotting import figure, ColumnDataSource\n",
    "from bokeh.io import output_file, show, output_notebook\n",
    "from bokeh.models import HoverTool\n",
    "from sklearn.preprocessing import scale\n",
    "from sklearn.model_selection import train_test_split\n",
    "from sklearn.linear_model import LinearRegression\n",
    "from datetime import datetime, timedelta\n",
    "\n",
    "from matplotlib import rcParams, rcParamsDefault\n",
    "\n",
    "# Hiding annoying warnings\n",
    "import warnings\n",
    "warnings.filterwarnings('ignore')\n",
    "\n",
    "# Setting the plotting style\n",
    "%matplotlib inline\n",
    "rcParams['figure.figsize'] = (12.8,4.8)\n",
    "plt.style.use('seaborn')\n",
    "\n",
    "# Importing the data\n",
    "df = pd.read_json(\"https://api.coinmarketcap.com/v1/ticker/?limit=0\")"
   ]
  },
  {
   "cell_type": "markdown",
   "metadata": {},
   "source": [
    "## Data\n",
    "\n",
    "The data that we use come from the CoinMarketCap API. \n",
    "\n",
    "The data consists of price and circulation data of many cryptocurrencies. We have loaded this data into a dataframe, from which we can nicely display the first few rows of data."
   ]
  },
  {
   "cell_type": "code",
   "execution_count": 2,
   "metadata": {},
   "outputs": [
    {
     "name": "stdout",
     "output_type": "stream",
     "text": [
      "We have 1469 rows and 15 columns in this DataFrame\n"
     ]
    },
    {
     "data": {
      "text/html": [
       "<div>\n",
       "<style scoped>\n",
       "    .dataframe tbody tr th:only-of-type {\n",
       "        vertical-align: middle;\n",
       "    }\n",
       "\n",
       "    .dataframe tbody tr th {\n",
       "        vertical-align: top;\n",
       "    }\n",
       "\n",
       "    .dataframe thead th {\n",
       "        text-align: right;\n",
       "    }\n",
       "</style>\n",
       "<table border=\"1\" class=\"dataframe\">\n",
       "  <thead>\n",
       "    <tr style=\"text-align: right;\">\n",
       "      <th></th>\n",
       "      <th>24h_volume_usd</th>\n",
       "      <th>available_supply</th>\n",
       "      <th>id</th>\n",
       "      <th>last_updated</th>\n",
       "      <th>market_cap_usd</th>\n",
       "      <th>max_supply</th>\n",
       "      <th>name</th>\n",
       "      <th>percent_change_1h</th>\n",
       "      <th>percent_change_24h</th>\n",
       "      <th>percent_change_7d</th>\n",
       "      <th>price_btc</th>\n",
       "      <th>price_usd</th>\n",
       "      <th>rank</th>\n",
       "      <th>symbol</th>\n",
       "      <th>total_supply</th>\n",
       "    </tr>\n",
       "  </thead>\n",
       "  <tbody>\n",
       "    <tr>\n",
       "      <th>0</th>\n",
       "      <td>1.172810e+10</td>\n",
       "      <td>1.681542e+07</td>\n",
       "      <td>bitcoin</td>\n",
       "      <td>1.516485e+09</td>\n",
       "      <td>2.178085e+11</td>\n",
       "      <td>2.100000e+07</td>\n",
       "      <td>Bitcoin</td>\n",
       "      <td>0.27</td>\n",
       "      <td>12.61</td>\n",
       "      <td>-10.09</td>\n",
       "      <td>1.000000</td>\n",
       "      <td>12952.900000</td>\n",
       "      <td>1</td>\n",
       "      <td>BTC</td>\n",
       "      <td>1.681542e+07</td>\n",
       "    </tr>\n",
       "    <tr>\n",
       "      <th>1</th>\n",
       "      <td>3.943950e+09</td>\n",
       "      <td>9.710616e+07</td>\n",
       "      <td>ethereum</td>\n",
       "      <td>1.516485e+09</td>\n",
       "      <td>1.122732e+11</td>\n",
       "      <td>NaN</td>\n",
       "      <td>Ethereum</td>\n",
       "      <td>0.25</td>\n",
       "      <td>11.71</td>\n",
       "      <td>-17.33</td>\n",
       "      <td>0.090015</td>\n",
       "      <td>1156.190000</td>\n",
       "      <td>2</td>\n",
       "      <td>ETH</td>\n",
       "      <td>9.710616e+07</td>\n",
       "    </tr>\n",
       "    <tr>\n",
       "      <th>2</th>\n",
       "      <td>2.362260e+09</td>\n",
       "      <td>3.873914e+10</td>\n",
       "      <td>ripple</td>\n",
       "      <td>1.516485e+09</td>\n",
       "      <td>6.138721e+10</td>\n",
       "      <td>1.000000e+11</td>\n",
       "      <td>Ripple</td>\n",
       "      <td>-0.24</td>\n",
       "      <td>2.91</td>\n",
       "      <td>-20.67</td>\n",
       "      <td>0.000123</td>\n",
       "      <td>1.584630</td>\n",
       "      <td>3</td>\n",
       "      <td>XRP</td>\n",
       "      <td>9.999309e+10</td>\n",
       "    </tr>\n",
       "    <tr>\n",
       "      <th>3</th>\n",
       "      <td>1.105740e+09</td>\n",
       "      <td>1.692241e+07</td>\n",
       "      <td>bitcoin-cash</td>\n",
       "      <td>1.516485e+09</td>\n",
       "      <td>3.507221e+10</td>\n",
       "      <td>2.100000e+07</td>\n",
       "      <td>Bitcoin Cash</td>\n",
       "      <td>-0.21</td>\n",
       "      <td>17.30</td>\n",
       "      <td>-23.78</td>\n",
       "      <td>0.161356</td>\n",
       "      <td>2072.530000</td>\n",
       "      <td>4</td>\n",
       "      <td>BCH</td>\n",
       "      <td>1.692241e+07</td>\n",
       "    </tr>\n",
       "    <tr>\n",
       "      <th>4</th>\n",
       "      <td>7.271520e+08</td>\n",
       "      <td>2.592707e+10</td>\n",
       "      <td>cardano</td>\n",
       "      <td>1.516485e+09</td>\n",
       "      <td>1.841862e+10</td>\n",
       "      <td>4.500000e+10</td>\n",
       "      <td>Cardano</td>\n",
       "      <td>0.05</td>\n",
       "      <td>10.90</td>\n",
       "      <td>-17.72</td>\n",
       "      <td>0.000055</td>\n",
       "      <td>0.710401</td>\n",
       "      <td>5</td>\n",
       "      <td>ADA</td>\n",
       "      <td>3.111248e+10</td>\n",
       "    </tr>\n",
       "  </tbody>\n",
       "</table>\n",
       "</div>"
      ],
      "text/plain": [
       "   24h_volume_usd  available_supply            id  last_updated  \\\n",
       "0    1.172810e+10      1.681542e+07       bitcoin  1.516485e+09   \n",
       "1    3.943950e+09      9.710616e+07      ethereum  1.516485e+09   \n",
       "2    2.362260e+09      3.873914e+10        ripple  1.516485e+09   \n",
       "3    1.105740e+09      1.692241e+07  bitcoin-cash  1.516485e+09   \n",
       "4    7.271520e+08      2.592707e+10       cardano  1.516485e+09   \n",
       "\n",
       "   market_cap_usd    max_supply          name  percent_change_1h  \\\n",
       "0    2.178085e+11  2.100000e+07       Bitcoin               0.27   \n",
       "1    1.122732e+11           NaN      Ethereum               0.25   \n",
       "2    6.138721e+10  1.000000e+11        Ripple              -0.24   \n",
       "3    3.507221e+10  2.100000e+07  Bitcoin Cash              -0.21   \n",
       "4    1.841862e+10  4.500000e+10       Cardano               0.05   \n",
       "\n",
       "   percent_change_24h  percent_change_7d  price_btc     price_usd  rank  \\\n",
       "0               12.61             -10.09   1.000000  12952.900000     1   \n",
       "1               11.71             -17.33   0.090015   1156.190000     2   \n",
       "2                2.91             -20.67   0.000123      1.584630     3   \n",
       "3               17.30             -23.78   0.161356   2072.530000     4   \n",
       "4               10.90             -17.72   0.000055      0.710401     5   \n",
       "\n",
       "  symbol  total_supply  \n",
       "0    BTC  1.681542e+07  \n",
       "1    ETH  9.710616e+07  \n",
       "2    XRP  9.999309e+10  \n",
       "3    BCH  1.692241e+07  \n",
       "4    ADA  3.111248e+10  "
      ]
     },
     "execution_count": 2,
     "metadata": {},
     "output_type": "execute_result"
    }
   ],
   "source": [
    "# Data inspection\n",
    "print('We have',df.shape[0],'rows and',df.shape[1],'columns in this DataFrame')\n",
    "df.head(5)"
   ]
  },
  {
   "cell_type": "markdown",
   "metadata": {},
   "source": [
    "We can see that the data consists of 1469 rows and 15 columns, we do not need much of this data. Let us select some of this data such that we can nicely show some characteristics of the data."
   ]
  },
  {
   "cell_type": "code",
   "execution_count": 3,
   "metadata": {},
   "outputs": [],
   "source": [
    "# Selecting the relevant columns\n",
    "market_cap = df[['name','market_cap_usd']]\n",
    "\n",
    "# Dropping currencies without market capitalization\n",
    "market_cap = market_cap.dropna()\n",
    "market_cap = market_cap.query('market_cap_usd > 0')\n",
    "\n",
    "# Setting the index\n",
    "market_cap.set_index('name', inplace=True)"
   ]
  },
  {
   "cell_type": "code",
   "execution_count": 4,
   "metadata": {},
   "outputs": [
    {
     "data": {
      "text/html": [
       "<div>\n",
       "<style scoped>\n",
       "    .dataframe tbody tr th:only-of-type {\n",
       "        vertical-align: middle;\n",
       "    }\n",
       "\n",
       "    .dataframe tbody tr th {\n",
       "        vertical-align: top;\n",
       "    }\n",
       "\n",
       "    .dataframe thead th {\n",
       "        text-align: right;\n",
       "    }\n",
       "</style>\n",
       "<table border=\"1\" class=\"dataframe\">\n",
       "  <thead>\n",
       "    <tr style=\"text-align: right;\">\n",
       "      <th></th>\n",
       "      <th>market_cap_usd</th>\n",
       "    </tr>\n",
       "    <tr>\n",
       "      <th>name</th>\n",
       "      <th></th>\n",
       "    </tr>\n",
       "  </thead>\n",
       "  <tbody>\n",
       "    <tr>\n",
       "      <th>Bitcoin</th>\n",
       "      <td>2.178085e+11</td>\n",
       "    </tr>\n",
       "    <tr>\n",
       "      <th>Ethereum</th>\n",
       "      <td>1.122732e+11</td>\n",
       "    </tr>\n",
       "    <tr>\n",
       "      <th>Ripple</th>\n",
       "      <td>6.138721e+10</td>\n",
       "    </tr>\n",
       "    <tr>\n",
       "      <th>Bitcoin Cash</th>\n",
       "      <td>3.507221e+10</td>\n",
       "    </tr>\n",
       "    <tr>\n",
       "      <th>Cardano</th>\n",
       "      <td>1.841862e+10</td>\n",
       "    </tr>\n",
       "  </tbody>\n",
       "</table>\n",
       "</div>"
      ],
      "text/plain": [
       "              market_cap_usd\n",
       "name                        \n",
       "Bitcoin         2.178085e+11\n",
       "Ethereum        1.122732e+11\n",
       "Ripple          6.138721e+10\n",
       "Bitcoin Cash    3.507221e+10\n",
       "Cardano         1.841862e+10"
      ]
     },
     "execution_count": 4,
     "metadata": {},
     "output_type": "execute_result"
    }
   ],
   "source": [
    "market_cap.head()"
   ]
  },
  {
   "cell_type": "code",
   "execution_count": 5,
   "metadata": {},
   "outputs": [
    {
     "data": {
      "image/png": "[encoded data removed]",
      "text/plain": [
       "<matplotlib.figure.Figure at 0x114992da0>"
      ]
     },
     "metadata": {},
     "output_type": "display_data"
    },
    {
     "name": "stdout",
     "output_type": "stream",
     "text": [
      "Total market capitalization of cryptocurrencies: $ 632.96 billion\n"
     ]
    }
   ],
   "source": [
    "_ = (market_cap[:10]/1000000000).plot.bar(color='blue', legend=False)\n",
    "_ = plt.title('Top 10 Cryptocurrencies: Market capitalization')\n",
    "_ = plt.xlabel('Currency')\n",
    "_ = plt.ylabel('Billion USD ($)')\n",
    "plt.show()\n",
    "\n",
    "total_cap = np.sum(market_cap)\n",
    "print('Total market capitalization of cryptocurrencies: $', round(total_cap[0]/1000000000,2), 'billion')"
   ]
  },
  {
   "cell_type": "markdown",
   "metadata": {},
   "source": [
    "We can see that the total capitalization of cryptocurrencies is already huge, Bitcoin is the biggest player on the market, followed by Ethereum and Ripple. \n",
    "\n",
    "## Some more data\n",
    "\n",
    "The following dataset is downloaded from [Kaggle](https://www.kaggle.com/jessevent/all-crypto-currencies/data), a platform that hosts data-related competitions. This dataset includes daily price data from 2013 onwards, for all cryptocurrencies. "
   ]
  },
  {
   "cell_type": "code",
   "execution_count": 6,
   "metadata": {},
   "outputs": [
    {
     "data": {
      "text/html": [
       "<div>\n",
       "<style scoped>\n",
       "    .dataframe tbody tr th:only-of-type {\n",
       "        vertical-align: middle;\n",
       "    }\n",
       "\n",
       "    .dataframe tbody tr th {\n",
       "        vertical-align: top;\n",
       "    }\n",
       "\n",
       "    .dataframe thead th {\n",
       "        text-align: right;\n",
       "    }\n",
       "</style>\n",
       "<table border=\"1\" class=\"dataframe\">\n",
       "  <thead>\n",
       "    <tr style=\"text-align: right;\">\n",
       "      <th></th>\n",
       "      <th>slug</th>\n",
       "      <th>symbol</th>\n",
       "      <th>name</th>\n",
       "      <th>date</th>\n",
       "      <th>ranknow</th>\n",
       "      <th>open</th>\n",
       "      <th>high</th>\n",
       "      <th>low</th>\n",
       "      <th>close</th>\n",
       "      <th>volume</th>\n",
       "      <th>market</th>\n",
       "      <th>close_ratio</th>\n",
       "      <th>spread</th>\n",
       "    </tr>\n",
       "  </thead>\n",
       "  <tbody>\n",
       "    <tr>\n",
       "      <th>0</th>\n",
       "      <td>bitcoin</td>\n",
       "      <td>BTC</td>\n",
       "      <td>Bitcoin</td>\n",
       "      <td>2013-04-28</td>\n",
       "      <td>1</td>\n",
       "      <td>135.30</td>\n",
       "      <td>135.98</td>\n",
       "      <td>132.10</td>\n",
       "      <td>134.21</td>\n",
       "      <td>0</td>\n",
       "      <td>1500520000</td>\n",
       "      <td>0.5438</td>\n",
       "      <td>3.88</td>\n",
       "    </tr>\n",
       "    <tr>\n",
       "      <th>1</th>\n",
       "      <td>bitcoin</td>\n",
       "      <td>BTC</td>\n",
       "      <td>Bitcoin</td>\n",
       "      <td>2013-04-29</td>\n",
       "      <td>1</td>\n",
       "      <td>134.44</td>\n",
       "      <td>147.49</td>\n",
       "      <td>134.00</td>\n",
       "      <td>144.54</td>\n",
       "      <td>0</td>\n",
       "      <td>1491160000</td>\n",
       "      <td>0.7813</td>\n",
       "      <td>13.49</td>\n",
       "    </tr>\n",
       "    <tr>\n",
       "      <th>2</th>\n",
       "      <td>bitcoin</td>\n",
       "      <td>BTC</td>\n",
       "      <td>Bitcoin</td>\n",
       "      <td>2013-04-30</td>\n",
       "      <td>1</td>\n",
       "      <td>144.00</td>\n",
       "      <td>146.93</td>\n",
       "      <td>134.05</td>\n",
       "      <td>139.00</td>\n",
       "      <td>0</td>\n",
       "      <td>1597780000</td>\n",
       "      <td>0.3843</td>\n",
       "      <td>12.88</td>\n",
       "    </tr>\n",
       "    <tr>\n",
       "      <th>3</th>\n",
       "      <td>bitcoin</td>\n",
       "      <td>BTC</td>\n",
       "      <td>Bitcoin</td>\n",
       "      <td>2013-05-01</td>\n",
       "      <td>1</td>\n",
       "      <td>139.00</td>\n",
       "      <td>139.89</td>\n",
       "      <td>107.72</td>\n",
       "      <td>116.99</td>\n",
       "      <td>0</td>\n",
       "      <td>1542820000</td>\n",
       "      <td>0.2882</td>\n",
       "      <td>32.17</td>\n",
       "    </tr>\n",
       "    <tr>\n",
       "      <th>4</th>\n",
       "      <td>bitcoin</td>\n",
       "      <td>BTC</td>\n",
       "      <td>Bitcoin</td>\n",
       "      <td>2013-05-02</td>\n",
       "      <td>1</td>\n",
       "      <td>116.38</td>\n",
       "      <td>125.60</td>\n",
       "      <td>92.28</td>\n",
       "      <td>105.21</td>\n",
       "      <td>0</td>\n",
       "      <td>1292190000</td>\n",
       "      <td>0.3881</td>\n",
       "      <td>33.32</td>\n",
       "    </tr>\n",
       "  </tbody>\n",
       "</table>\n",
       "</div>"
      ],
      "text/plain": [
       "      slug symbol     name        date  ranknow    open    high     low  \\\n",
       "0  bitcoin    BTC  Bitcoin  2013-04-28        1  135.30  135.98  132.10   \n",
       "1  bitcoin    BTC  Bitcoin  2013-04-29        1  134.44  147.49  134.00   \n",
       "2  bitcoin    BTC  Bitcoin  2013-04-30        1  144.00  146.93  134.05   \n",
       "3  bitcoin    BTC  Bitcoin  2013-05-01        1  139.00  139.89  107.72   \n",
       "4  bitcoin    BTC  Bitcoin  2013-05-02        1  116.38  125.60   92.28   \n",
       "\n",
       "    close  volume      market  close_ratio  spread  \n",
       "0  134.21       0  1500520000       0.5438    3.88  \n",
       "1  144.54       0  1491160000       0.7813   13.49  \n",
       "2  139.00       0  1597780000       0.3843   12.88  \n",
       "3  116.99       0  1542820000       0.2882   32.17  \n",
       "4  105.21       0  1292190000       0.3881   33.32  "
      ]
     },
     "execution_count": 6,
     "metadata": {},
     "output_type": "execute_result"
    }
   ],
   "source": [
    "# Importing the data\n",
    "df1 = pd.read_csv('crypto-markets.csv')\n",
    "\n",
    "# Data inspection\n",
    "df1.head(5)"
   ]
  },
  {
   "cell_type": "code",
   "execution_count": 7,
   "metadata": {},
   "outputs": [],
   "source": [
    "# Selecting data as of 2017\n",
    "df1['date'] = pd.to_datetime(df1['date'])\n",
    "df1 = df1.loc[df1['date'] >= '2017']\n",
    "\n",
    "# Selecting relevant columns\n",
    "exchange = df1[['symbol','name','close','date']]\n",
    "\n",
    "# Selecting relevant currencies\n",
    "exchange.dropna(inplace = True)\n",
    "\n",
    "exchangeBTC = exchange.loc[exchange['symbol'] == 'BTC'] \n",
    "exchangeETH = exchange.loc[exchange['symbol'] == 'ETH'] \n",
    "exchangeRIP = exchange.loc[exchange['symbol'] == 'XRP'] \n",
    "\n",
    "exchange = pd.concat([exchangeBTC, exchangeETH, exchangeRIP], ignore_index=True)\n",
    "\n",
    "# Order by date\n",
    "exchange.sort_values(['date','symbol'], inplace=True)\n",
    "\n",
    "# Setting the index\n",
    "exchange.set_index('date', inplace=True)"
   ]
  },
  {
   "cell_type": "code",
   "execution_count": 8,
   "metadata": {},
   "outputs": [
    {
     "data": {
      "text/html": [
       "<div>\n",
       "<style scoped>\n",
       "    .dataframe tbody tr th:only-of-type {\n",
       "        vertical-align: middle;\n",
       "    }\n",
       "\n",
       "    .dataframe tbody tr th {\n",
       "        vertical-align: top;\n",
       "    }\n",
       "\n",
       "    .dataframe thead th {\n",
       "        text-align: right;\n",
       "    }\n",
       "</style>\n",
       "<table border=\"1\" class=\"dataframe\">\n",
       "  <thead>\n",
       "    <tr style=\"text-align: right;\">\n",
       "      <th></th>\n",
       "      <th>Bitcoin</th>\n",
       "      <th>Ethereum</th>\n",
       "      <th>Ripple</th>\n",
       "    </tr>\n",
       "    <tr>\n",
       "      <th>date</th>\n",
       "      <th></th>\n",
       "      <th></th>\n",
       "      <th></th>\n",
       "    </tr>\n",
       "  </thead>\n",
       "  <tbody>\n",
       "    <tr>\n",
       "      <th>2017-01-01</th>\n",
       "      <td>998.33</td>\n",
       "      <td>8.17</td>\n",
       "      <td>0.006368</td>\n",
       "    </tr>\n",
       "    <tr>\n",
       "      <th>2017-01-02</th>\n",
       "      <td>1021.75</td>\n",
       "      <td>8.38</td>\n",
       "      <td>0.006311</td>\n",
       "    </tr>\n",
       "    <tr>\n",
       "      <th>2017-01-03</th>\n",
       "      <td>1043.84</td>\n",
       "      <td>9.73</td>\n",
       "      <td>0.006386</td>\n",
       "    </tr>\n",
       "    <tr>\n",
       "      <th>2017-01-04</th>\n",
       "      <td>1154.73</td>\n",
       "      <td>11.25</td>\n",
       "      <td>0.006570</td>\n",
       "    </tr>\n",
       "    <tr>\n",
       "      <th>2017-01-05</th>\n",
       "      <td>1013.38</td>\n",
       "      <td>10.25</td>\n",
       "      <td>0.006201</td>\n",
       "    </tr>\n",
       "  </tbody>\n",
       "</table>\n",
       "</div>"
      ],
      "text/plain": [
       "            Bitcoin  Ethereum    Ripple\n",
       "date                                   \n",
       "2017-01-01   998.33      8.17  0.006368\n",
       "2017-01-02  1021.75      8.38  0.006311\n",
       "2017-01-03  1043.84      9.73  0.006386\n",
       "2017-01-04  1154.73     11.25  0.006570\n",
       "2017-01-05  1013.38     10.25  0.006201"
      ]
     },
     "execution_count": 8,
     "metadata": {},
     "output_type": "execute_result"
    }
   ],
   "source": [
    "# Constructing new columns from the closing prices\n",
    "exchange['Bitcoin'] = exchange.close[0::3]\n",
    "exchange['Ethereum'] = exchange.close[1::3]\n",
    "exchange['Ripple'] = exchange.close[2::3]\n",
    "\n",
    "# Keeping only the relevant columns and dropping duplicate rows\n",
    "exchange = exchange[['Bitcoin','Ethereum','Ripple']]\n",
    "exchange = exchange.loc[::3,:]\n",
    "\n",
    "# Inspecting the dataframe\n",
    "exchange.head()"
   ]
  },
  {
   "cell_type": "markdown",
   "metadata": {},
   "source": [
    "For now, we are only interested in daily closing prices of the top three cryptocurrencies from 2017 onwards. We have altered the dataframe such that we have our three currencies as columns, dates as indeces and closing prices as values. Next, we will plot closing prices for these currencies and we will show some summary statistics for these data. "
   ]
  },
  {
   "cell_type": "code",
   "execution_count": 9,
   "metadata": {
    "scrolled": false
   },
   "outputs": [
    {
     "data": {
      "image/png": "[encoded data removed]",
      "text/plain": [
       "<matplotlib.figure.Figure at 0x116dc6e48>"
      ]
     },
     "metadata": {},
     "output_type": "display_data"
    },
    {
     "data": {
      "text/html": [
       "<div>\n",
       "<style scoped>\n",
       "    .dataframe tbody tr th:only-of-type {\n",
       "        vertical-align: middle;\n",
       "    }\n",
       "\n",
       "    .dataframe tbody tr th {\n",
       "        vertical-align: top;\n",
       "    }\n",
       "\n",
       "    .dataframe thead th {\n",
       "        text-align: right;\n",
       "    }\n",
       "</style>\n",
       "<table border=\"1\" class=\"dataframe\">\n",
       "  <thead>\n",
       "    <tr style=\"text-align: right;\">\n",
       "      <th></th>\n",
       "      <th>Bitcoin</th>\n",
       "      <th>Ethereum</th>\n",
       "      <th>Ripple</th>\n",
       "    </tr>\n",
       "  </thead>\n",
       "  <tbody>\n",
       "    <tr>\n",
       "      <th>count</th>\n",
       "      <td>375.000000</td>\n",
       "      <td>375.000000</td>\n",
       "      <td>375.000000</td>\n",
       "    </tr>\n",
       "    <tr>\n",
       "      <th>mean</th>\n",
       "      <td>4314.172480</td>\n",
       "      <td>245.937333</td>\n",
       "      <td>0.270975</td>\n",
       "    </tr>\n",
       "    <tr>\n",
       "      <th>std</th>\n",
       "      <td>4415.960737</td>\n",
       "      <td>228.729135</td>\n",
       "      <td>0.495798</td>\n",
       "    </tr>\n",
       "    <tr>\n",
       "      <th>min</th>\n",
       "      <td>777.760000</td>\n",
       "      <td>8.170000</td>\n",
       "      <td>0.005408</td>\n",
       "    </tr>\n",
       "    <tr>\n",
       "      <th>25%</th>\n",
       "      <td>1197.140000</td>\n",
       "      <td>48.260000</td>\n",
       "      <td>0.031331</td>\n",
       "    </tr>\n",
       "    <tr>\n",
       "      <th>50%</th>\n",
       "      <td>2608.720000</td>\n",
       "      <td>251.700000</td>\n",
       "      <td>0.197339</td>\n",
       "    </tr>\n",
       "    <tr>\n",
       "      <th>75%</th>\n",
       "      <td>4777.005000</td>\n",
       "      <td>317.300000</td>\n",
       "      <td>0.251758</td>\n",
       "    </tr>\n",
       "    <tr>\n",
       "      <th>max</th>\n",
       "      <td>19497.400000</td>\n",
       "      <td>1299.740000</td>\n",
       "      <td>3.380000</td>\n",
       "    </tr>\n",
       "  </tbody>\n",
       "</table>\n",
       "</div>"
      ],
      "text/plain": [
       "            Bitcoin     Ethereum      Ripple\n",
       "count    375.000000   375.000000  375.000000\n",
       "mean    4314.172480   245.937333    0.270975\n",
       "std     4415.960737   228.729135    0.495798\n",
       "min      777.760000     8.170000    0.005408\n",
       "25%     1197.140000    48.260000    0.031331\n",
       "50%     2608.720000   251.700000    0.197339\n",
       "75%     4777.005000   317.300000    0.251758\n",
       "max    19497.400000  1299.740000    3.380000"
      ]
     },
     "execution_count": 9,
     "metadata": {},
     "output_type": "execute_result"
    }
   ],
   "source": [
    "COLORS = ['orange','green','blue']\n",
    "\n",
    "_ = exchange.plot.line(title = 'Price data', subplots = True, color=COLORS)\n",
    "_ = plt.xlabel('Date')\n",
    "_ = plt.ylabel('USD ($)')\n",
    "plt.show()\n",
    "\n",
    "exchange.describe()"
   ]
  },
  {
   "cell_type": "markdown",
   "metadata": {},
   "source": [
    "As can be seen, Bitcoin prices have always been far ahead, the currencies seem to have become more correlated and Ripple has only begun showing a massive price increase in the recent past. \n",
    "\n",
    "As a benchmark we will now load data from the Yahoo Finance API for the S&P 500, we will again select closing prices using the same dates. The S&P 500 is often used as a proxy for the performance of the USA stock market.  "
   ]
  },
  {
   "cell_type": "code",
   "execution_count": 10,
   "metadata": {},
   "outputs": [
    {
     "data": {
      "text/html": [
       "<div>\n",
       "<style scoped>\n",
       "    .dataframe tbody tr th:only-of-type {\n",
       "        vertical-align: middle;\n",
       "    }\n",
       "\n",
       "    .dataframe tbody tr th {\n",
       "        vertical-align: top;\n",
       "    }\n",
       "\n",
       "    .dataframe thead th {\n",
       "        text-align: right;\n",
       "    }\n",
       "</style>\n",
       "<table border=\"1\" class=\"dataframe\">\n",
       "  <thead>\n",
       "    <tr style=\"text-align: right;\">\n",
       "      <th></th>\n",
       "      <th>Close</th>\n",
       "    </tr>\n",
       "    <tr>\n",
       "      <th>Date</th>\n",
       "      <th></th>\n",
       "    </tr>\n",
       "  </thead>\n",
       "  <tbody>\n",
       "    <tr>\n",
       "      <th>2017-01-03</th>\n",
       "      <td>2257.830078</td>\n",
       "    </tr>\n",
       "    <tr>\n",
       "      <th>2017-01-04</th>\n",
       "      <td>2270.750000</td>\n",
       "    </tr>\n",
       "    <tr>\n",
       "      <th>2017-01-05</th>\n",
       "      <td>2269.000000</td>\n",
       "    </tr>\n",
       "    <tr>\n",
       "      <th>2017-01-06</th>\n",
       "      <td>2276.979980</td>\n",
       "    </tr>\n",
       "    <tr>\n",
       "      <th>2017-01-09</th>\n",
       "      <td>2268.899902</td>\n",
       "    </tr>\n",
       "  </tbody>\n",
       "</table>\n",
       "</div>"
      ],
      "text/plain": [
       "                  Close\n",
       "Date                   \n",
       "2017-01-03  2257.830078\n",
       "2017-01-04  2270.750000\n",
       "2017-01-05  2269.000000\n",
       "2017-01-06  2276.979980\n",
       "2017-01-09  2268.899902"
      ]
     },
     "execution_count": 10,
     "metadata": {},
     "output_type": "execute_result"
    }
   ],
   "source": [
    "# We will compare these returns against the S&P 500\n",
    "start = date(2017, 1, 1)\n",
    "end = date(2018, 1, 10)\n",
    "ticker = '^GSPC'\n",
    "data_source = 'yahoo'\n",
    "stock_data = DataReader(ticker, data_source, start, end)\n",
    "\n",
    "sp500 = pd.DataFrame(stock_data.Close)\n",
    "\n",
    "# Data inspection\n",
    "sp500.head()"
   ]
  },
  {
   "cell_type": "code",
   "execution_count": 11,
   "metadata": {},
   "outputs": [
    {
     "data": {
      "image/png": "[encoded data removed]",
      "text/plain": [
       "<matplotlib.figure.Figure at 0x116dc6c50>"
      ]
     },
     "metadata": {},
     "output_type": "display_data"
    },
    {
     "data": {
      "text/html": [
       "<div>\n",
       "<style scoped>\n",
       "    .dataframe tbody tr th:only-of-type {\n",
       "        vertical-align: middle;\n",
       "    }\n",
       "\n",
       "    .dataframe tbody tr th {\n",
       "        vertical-align: top;\n",
       "    }\n",
       "\n",
       "    .dataframe thead th {\n",
       "        text-align: right;\n",
       "    }\n",
       "</style>\n",
       "<table border=\"1\" class=\"dataframe\">\n",
       "  <thead>\n",
       "    <tr style=\"text-align: right;\">\n",
       "      <th></th>\n",
       "      <th>Close</th>\n",
       "    </tr>\n",
       "  </thead>\n",
       "  <tbody>\n",
       "    <tr>\n",
       "      <th>count</th>\n",
       "      <td>258.000000</td>\n",
       "    </tr>\n",
       "    <tr>\n",
       "      <th>mean</th>\n",
       "      <td>2456.749656</td>\n",
       "    </tr>\n",
       "    <tr>\n",
       "      <th>std</th>\n",
       "      <td>117.371874</td>\n",
       "    </tr>\n",
       "    <tr>\n",
       "      <th>min</th>\n",
       "      <td>2257.830078</td>\n",
       "    </tr>\n",
       "    <tr>\n",
       "      <th>25%</th>\n",
       "      <td>2367.520081</td>\n",
       "    </tr>\n",
       "    <tr>\n",
       "      <th>50%</th>\n",
       "      <td>2438.255005</td>\n",
       "    </tr>\n",
       "    <tr>\n",
       "      <th>75%</th>\n",
       "      <td>2550.312439</td>\n",
       "    </tr>\n",
       "    <tr>\n",
       "      <th>max</th>\n",
       "      <td>2751.290039</td>\n",
       "    </tr>\n",
       "  </tbody>\n",
       "</table>\n",
       "</div>"
      ],
      "text/plain": [
       "             Close\n",
       "count   258.000000\n",
       "mean   2456.749656\n",
       "std     117.371874\n",
       "min    2257.830078\n",
       "25%    2367.520081\n",
       "50%    2438.255005\n",
       "75%    2550.312439\n",
       "max    2751.290039"
      ]
     },
     "execution_count": 11,
     "metadata": {},
     "output_type": "execute_result"
    }
   ],
   "source": [
    "_ = sp500.plot.line(title='S&P 500')\n",
    "_ = plt.ylabel('USD ($)')\n",
    "plt.show()\n",
    "\n",
    "sp500.describe()"
   ]
  },
  {
   "cell_type": "markdown",
   "metadata": {},
   "source": [
    "As can be seen in the plot above, the S&P 500 has shown some steady progress in 2017 as well. However, while not clearly visible from this graph, the S&P 500 is trumped by cryptocurrencies in terms of performance over 2017. \n",
    "\n",
    "Let us now add the S&P 500 data to our cryptocurrency data, and drop all rows in which we have no closing prices for the S&P 500."
   ]
  },
  {
   "cell_type": "code",
   "execution_count": 12,
   "metadata": {},
   "outputs": [
    {
     "data": {
      "text/html": [
       "<div>\n",
       "<style scoped>\n",
       "    .dataframe tbody tr th:only-of-type {\n",
       "        vertical-align: middle;\n",
       "    }\n",
       "\n",
       "    .dataframe tbody tr th {\n",
       "        vertical-align: top;\n",
       "    }\n",
       "\n",
       "    .dataframe thead th {\n",
       "        text-align: right;\n",
       "    }\n",
       "</style>\n",
       "<table border=\"1\" class=\"dataframe\">\n",
       "  <thead>\n",
       "    <tr style=\"text-align: right;\">\n",
       "      <th></th>\n",
       "      <th>Bitcoin</th>\n",
       "      <th>Ethereum</th>\n",
       "      <th>Ripple</th>\n",
       "      <th>SP500</th>\n",
       "    </tr>\n",
       "    <tr>\n",
       "      <th>date</th>\n",
       "      <th></th>\n",
       "      <th></th>\n",
       "      <th></th>\n",
       "      <th></th>\n",
       "    </tr>\n",
       "  </thead>\n",
       "  <tbody>\n",
       "    <tr>\n",
       "      <th>2017-01-03</th>\n",
       "      <td>1043.84</td>\n",
       "      <td>9.73</td>\n",
       "      <td>0.006386</td>\n",
       "      <td>2257.830078</td>\n",
       "    </tr>\n",
       "    <tr>\n",
       "      <th>2017-01-04</th>\n",
       "      <td>1154.73</td>\n",
       "      <td>11.25</td>\n",
       "      <td>0.006570</td>\n",
       "      <td>2270.750000</td>\n",
       "    </tr>\n",
       "    <tr>\n",
       "      <th>2017-01-05</th>\n",
       "      <td>1013.38</td>\n",
       "      <td>10.25</td>\n",
       "      <td>0.006201</td>\n",
       "      <td>2269.000000</td>\n",
       "    </tr>\n",
       "    <tr>\n",
       "      <th>2017-01-06</th>\n",
       "      <td>902.20</td>\n",
       "      <td>10.25</td>\n",
       "      <td>0.006315</td>\n",
       "      <td>2276.979980</td>\n",
       "    </tr>\n",
       "    <tr>\n",
       "      <th>2017-01-09</th>\n",
       "      <td>902.83</td>\n",
       "      <td>10.33</td>\n",
       "      <td>0.006167</td>\n",
       "      <td>2268.899902</td>\n",
       "    </tr>\n",
       "  </tbody>\n",
       "</table>\n",
       "</div>"
      ],
      "text/plain": [
       "            Bitcoin  Ethereum    Ripple        SP500\n",
       "date                                                \n",
       "2017-01-03  1043.84      9.73  0.006386  2257.830078\n",
       "2017-01-04  1154.73     11.25  0.006570  2270.750000\n",
       "2017-01-05  1013.38     10.25  0.006201  2269.000000\n",
       "2017-01-06   902.20     10.25  0.006315  2276.979980\n",
       "2017-01-09   902.83     10.33  0.006167  2268.899902"
      ]
     },
     "execution_count": 12,
     "metadata": {},
     "output_type": "execute_result"
    }
   ],
   "source": [
    "exchange['SP500'] = sp500.Close\n",
    "exchange.dropna(inplace=True) #to be able to substract SP500 (closed on weekends)\n",
    "exchange.head()"
   ]
  },
  {
   "cell_type": "markdown",
   "metadata": {},
   "source": [
    "We can now compute daily returns for all three currencies as well as the S&P 500. Following we can plot daily returns of the cryptocurrencies excess of the S&P 500 returns."
   ]
  },
  {
   "cell_type": "code",
   "execution_count": 13,
   "metadata": {
    "scrolled": true
   },
   "outputs": [
    {
     "data": {
      "image/png": "[encoded data removed]",
      "text/plain": [
       "<matplotlib.figure.Figure at 0x116e16390>"
      ]
     },
     "metadata": {},
     "output_type": "display_data"
    }
   ],
   "source": [
    "# Showing the daily risk premium of the three different currencies\n",
    "\n",
    "daily_returns = exchange.pct_change()\n",
    "crypto_returns = daily_returns[['Bitcoin','Ethereum','Ripple']]\n",
    "sp_returns = daily_returns['SP500']\n",
    "excess_returns = crypto_returns.sub(sp_returns, axis=0)\n",
    "\n",
    "_ = excess_returns.plot(title = 'Excess returns per currency', color=COLORS)\n",
    "_.yaxis.set_major_formatter(FuncFormatter(lambda y, _:'{:.0%}'.format(y)))\n",
    "_ = plt.ylabel('Daily excess returns')\n",
    "_ = plt.xlabel('Date')\n",
    "plt.show()\n"
   ]
  },
  {
   "cell_type": "markdown",
   "metadata": {},
   "source": [
    "This graph highlights some of the absurd volatility in the cryptocurrency market already. For example, take ripple during the month of may it doubled in value in only a single day. \n",
    "\n",
    "Let us calculate the average daily returns, and plot them using a histogram. "
   ]
  },
  {
   "cell_type": "code",
   "execution_count": 14,
   "metadata": {},
   "outputs": [
    {
     "data": {
      "image/png": "[encoded data removed]",
      "text/plain": [
       "<matplotlib.figure.Figure at 0x116f0be80>"
      ]
     },
     "metadata": {},
     "output_type": "display_data"
    }
   ],
   "source": [
    "# The mean of the excess returns\n",
    "avg_excess_returns = excess_returns.mean()\n",
    "\n",
    "# Plotting the means of the return differences\n",
    "_ = avg_excess_returns.plot.bar(title = 'Average risk premium', color=COLORS)\n",
    "_ = plt.ylabel('Average daily returns')\n",
    "plt.show()\n"
   ]
  },
  {
   "cell_type": "markdown",
   "metadata": {},
   "source": [
    "We can see that Ripple was yielding the highest returns, followed by Ethereum and Bitcoin respectively. It would be logical to believe that returns are positively related to risk, we can check this by plotting the standard deviations."
   ]
  },
  {
   "cell_type": "code",
   "execution_count": 15,
   "metadata": {},
   "outputs": [
    {
     "data": {
      "image/png": "[encoded data removed]",
      "text/plain": [
       "<matplotlib.figure.Figure at 0x116e13860>"
      ]
     },
     "metadata": {},
     "output_type": "display_data"
    }
   ],
   "source": [
    "# The standard deviation of the excess returns\n",
    "std_excess_returns = excess_returns.std()\n",
    "\n",
    "# Plotting the standard devations of the return differences\n",
    "_ = std_excess_returns.plot.bar(title = 'Volatility of the currencies', color=COLORS)\n",
    "_ = plt.ylabel('Standard deviation')\n",
    "plt.show()"
   ]
  },
  {
   "cell_type": "markdown",
   "metadata": {},
   "source": [
    "While Ripple yielded the highest returns, it also shows to be more risky. Let us now define a function that takes the mean, standard deviation and number of trading days, and returns the annualized Sharpe ratio. \n",
    "\n",
    "We define the annualized Sharpe ratio as follows: $\\sqrt{n}\\cdot\\dfrac{\\mu_p}{\\sigma_p}$, where $n$ is the number of trading days of portfolio $p$, $\\mu$ is the average return net of the benchmark rate and $\\sigma$ is the standard deviation."
   ]
  },
  {
   "cell_type": "code",
   "execution_count": 16,
   "metadata": {},
   "outputs": [
    {
     "data": {
      "text/html": [
       "<div>\n",
       "<style scoped>\n",
       "    .dataframe tbody tr th:only-of-type {\n",
       "        vertical-align: middle;\n",
       "    }\n",
       "\n",
       "    .dataframe tbody tr th {\n",
       "        vertical-align: top;\n",
       "    }\n",
       "\n",
       "    .dataframe thead th {\n",
       "        text-align: right;\n",
       "    }\n",
       "</style>\n",
       "<table border=\"1\" class=\"dataframe\">\n",
       "  <thead>\n",
       "    <tr style=\"text-align: right;\">\n",
       "      <th></th>\n",
       "      <th>Annualized Sharpe Ratio</th>\n",
       "    </tr>\n",
       "  </thead>\n",
       "  <tbody>\n",
       "    <tr>\n",
       "      <th>Bitcoin</th>\n",
       "      <td>3.117520</td>\n",
       "    </tr>\n",
       "    <tr>\n",
       "      <th>Ethereum</th>\n",
       "      <td>3.849850</td>\n",
       "    </tr>\n",
       "    <tr>\n",
       "      <th>Ripple</th>\n",
       "      <td>3.313994</td>\n",
       "    </tr>\n",
       "  </tbody>\n",
       "</table>\n",
       "</div>"
      ],
      "text/plain": [
       "          Annualized Sharpe Ratio\n",
       "Bitcoin                  3.117520\n",
       "Ethereum                 3.849850\n",
       "Ripple                   3.313994"
      ]
     },
     "execution_count": 16,
     "metadata": {},
     "output_type": "execute_result"
    }
   ],
   "source": [
    "# We define a function for the annualized Sharpe ratio\n",
    "def sharpe(mean, std, n_periods):\n",
    "    return np.sqrt(n_periods)*(mean/std)\n",
    "\n",
    "# Now we calculate the sharpe ratio for the three cryptocurrencies\n",
    "pd.DataFrame(sharpe(avg_excess_returns, std_excess_returns, len(excess_returns)),columns=[\"Annualized Sharpe Ratio\"])"
   ]
  },
  {
   "cell_type": "markdown",
   "metadata": {},
   "source": [
    "## Result <a id='sharpe'></a>\n",
    "From the table we can read that Ethereum has the greatest annualized Sharpe ratio, followed by Ripple and Bitcoin respectively. Let us nicely print this result."
   ]
  },
  {
   "cell_type": "code",
   "execution_count": 17,
   "metadata": {},
   "outputs": [
    {
     "name": "stdout",
     "output_type": "stream",
     "text": [
      "Based on the Sharpe ratios of these results, it seems best to buy Ethereum\n"
     ]
    }
   ],
   "source": [
    "print('Based on the Sharpe ratios of these results, it seems best to buy', np.argmax(sharpe(avg_excess_returns, std_excess_returns, len(excess_returns))))"
   ]
  },
  {
   "cell_type": "markdown",
   "metadata": {},
   "source": [
    "## The relation between return and volatility\n",
    "\n",
    "From our graphical EDA, we got the idea that average returns and volatility are positively correlated. However, we were not completely convinced and we would like to check this for all cryptocurrencies for which we have data. Let us use the dataset we downloaded from Kaggle, take only closing prices, dates and names. We will use the names as columns, dates as indexes and closing prices as values. "
   ]
  },
  {
   "cell_type": "code",
   "execution_count": 18,
   "metadata": {
    "scrolled": false
   },
   "outputs": [
    {
     "data": {
      "text/html": [
       "<div>\n",
       "<style scoped>\n",
       "    .dataframe tbody tr th:only-of-type {\n",
       "        vertical-align: middle;\n",
       "    }\n",
       "\n",
       "    .dataframe tbody tr th {\n",
       "        vertical-align: top;\n",
       "    }\n",
       "\n",
       "    .dataframe thead th {\n",
       "        text-align: right;\n",
       "    }\n",
       "</style>\n",
       "<table border=\"1\" class=\"dataframe\">\n",
       "  <thead>\n",
       "    <tr style=\"text-align: right;\">\n",
       "      <th>name</th>\n",
       "      <th>0x</th>\n",
       "      <th>10M Token</th>\n",
       "      <th>1337</th>\n",
       "      <th>2GIVE</th>\n",
       "      <th>300 Token</th>\n",
       "      <th>42-coin</th>\n",
       "      <th>808Coin</th>\n",
       "      <th>8Bit</th>\n",
       "      <th>9COIN</th>\n",
       "      <th>AI Doctor</th>\n",
       "      <th>...</th>\n",
       "      <th>iDice</th>\n",
       "      <th>iEthereum</th>\n",
       "      <th>iExec RLC</th>\n",
       "      <th>iQuant</th>\n",
       "      <th>iTicoin</th>\n",
       "      <th>iXledger</th>\n",
       "      <th>netBit</th>\n",
       "      <th>onG.social</th>\n",
       "      <th>vSlice</th>\n",
       "      <th>vTorrent</th>\n",
       "    </tr>\n",
       "    <tr>\n",
       "      <th>date</th>\n",
       "      <th></th>\n",
       "      <th></th>\n",
       "      <th></th>\n",
       "      <th></th>\n",
       "      <th></th>\n",
       "      <th></th>\n",
       "      <th></th>\n",
       "      <th></th>\n",
       "      <th></th>\n",
       "      <th></th>\n",
       "      <th></th>\n",
       "      <th></th>\n",
       "      <th></th>\n",
       "      <th></th>\n",
       "      <th></th>\n",
       "      <th></th>\n",
       "      <th></th>\n",
       "      <th></th>\n",
       "      <th></th>\n",
       "      <th></th>\n",
       "      <th></th>\n",
       "    </tr>\n",
       "  </thead>\n",
       "  <tbody>\n",
       "    <tr>\n",
       "      <th>2017-01-01</th>\n",
       "      <td>NaN</td>\n",
       "      <td>NaN</td>\n",
       "      <td>0.000001</td>\n",
       "      <td>0.000330</td>\n",
       "      <td>NaN</td>\n",
       "      <td>NaN</td>\n",
       "      <td>0.000190</td>\n",
       "      <td>NaN</td>\n",
       "      <td>NaN</td>\n",
       "      <td>NaN</td>\n",
       "      <td>...</td>\n",
       "      <td>NaN</td>\n",
       "      <td>NaN</td>\n",
       "      <td>NaN</td>\n",
       "      <td>NaN</td>\n",
       "      <td>NaN</td>\n",
       "      <td>NaN</td>\n",
       "      <td>0.000502</td>\n",
       "      <td>NaN</td>\n",
       "      <td>0.081857</td>\n",
       "      <td>0.025942</td>\n",
       "    </tr>\n",
       "    <tr>\n",
       "      <th>2017-01-02</th>\n",
       "      <td>NaN</td>\n",
       "      <td>NaN</td>\n",
       "      <td>0.000002</td>\n",
       "      <td>0.000276</td>\n",
       "      <td>NaN</td>\n",
       "      <td>NaN</td>\n",
       "      <td>0.000163</td>\n",
       "      <td>0.011243</td>\n",
       "      <td>NaN</td>\n",
       "      <td>NaN</td>\n",
       "      <td>...</td>\n",
       "      <td>NaN</td>\n",
       "      <td>NaN</td>\n",
       "      <td>NaN</td>\n",
       "      <td>NaN</td>\n",
       "      <td>NaN</td>\n",
       "      <td>NaN</td>\n",
       "      <td>0.000451</td>\n",
       "      <td>NaN</td>\n",
       "      <td>0.077368</td>\n",
       "      <td>0.021693</td>\n",
       "    </tr>\n",
       "    <tr>\n",
       "      <th>2017-01-03</th>\n",
       "      <td>NaN</td>\n",
       "      <td>NaN</td>\n",
       "      <td>0.000002</td>\n",
       "      <td>0.000380</td>\n",
       "      <td>NaN</td>\n",
       "      <td>NaN</td>\n",
       "      <td>0.000167</td>\n",
       "      <td>0.012373</td>\n",
       "      <td>NaN</td>\n",
       "      <td>NaN</td>\n",
       "      <td>...</td>\n",
       "      <td>NaN</td>\n",
       "      <td>NaN</td>\n",
       "      <td>NaN</td>\n",
       "      <td>NaN</td>\n",
       "      <td>NaN</td>\n",
       "      <td>NaN</td>\n",
       "      <td>0.000450</td>\n",
       "      <td>NaN</td>\n",
       "      <td>0.062777</td>\n",
       "      <td>0.022364</td>\n",
       "    </tr>\n",
       "    <tr>\n",
       "      <th>2017-01-04</th>\n",
       "      <td>NaN</td>\n",
       "      <td>NaN</td>\n",
       "      <td>0.000001</td>\n",
       "      <td>0.000392</td>\n",
       "      <td>NaN</td>\n",
       "      <td>NaN</td>\n",
       "      <td>0.000185</td>\n",
       "      <td>0.013417</td>\n",
       "      <td>NaN</td>\n",
       "      <td>NaN</td>\n",
       "      <td>...</td>\n",
       "      <td>NaN</td>\n",
       "      <td>NaN</td>\n",
       "      <td>NaN</td>\n",
       "      <td>NaN</td>\n",
       "      <td>NaN</td>\n",
       "      <td>NaN</td>\n",
       "      <td>0.000600</td>\n",
       "      <td>NaN</td>\n",
       "      <td>0.057517</td>\n",
       "      <td>0.025055</td>\n",
       "    </tr>\n",
       "    <tr>\n",
       "      <th>2017-01-05</th>\n",
       "      <td>NaN</td>\n",
       "      <td>NaN</td>\n",
       "      <td>0.000001</td>\n",
       "      <td>0.000263</td>\n",
       "      <td>NaN</td>\n",
       "      <td>NaN</td>\n",
       "      <td>0.000101</td>\n",
       "      <td>0.010844</td>\n",
       "      <td>NaN</td>\n",
       "      <td>NaN</td>\n",
       "      <td>...</td>\n",
       "      <td>NaN</td>\n",
       "      <td>NaN</td>\n",
       "      <td>NaN</td>\n",
       "      <td>NaN</td>\n",
       "      <td>NaN</td>\n",
       "      <td>NaN</td>\n",
       "      <td>NaN</td>\n",
       "      <td>NaN</td>\n",
       "      <td>0.055768</td>\n",
       "      <td>0.022355</td>\n",
       "    </tr>\n",
       "  </tbody>\n",
       "</table>\n",
       "<p>5 rows × 1397 columns</p>\n",
       "</div>"
      ],
      "text/plain": [
       "name        0x  10M Token      1337     2GIVE  300 Token  42-coin   808Coin  \\\n",
       "date                                                                          \n",
       "2017-01-01 NaN        NaN  0.000001  0.000330        NaN      NaN  0.000190   \n",
       "2017-01-02 NaN        NaN  0.000002  0.000276        NaN      NaN  0.000163   \n",
       "2017-01-03 NaN        NaN  0.000002  0.000380        NaN      NaN  0.000167   \n",
       "2017-01-04 NaN        NaN  0.000001  0.000392        NaN      NaN  0.000185   \n",
       "2017-01-05 NaN        NaN  0.000001  0.000263        NaN      NaN  0.000101   \n",
       "\n",
       "name            8Bit  9COIN  AI Doctor    ...     iDice  iEthereum  iExec RLC  \\\n",
       "date                                      ...                                   \n",
       "2017-01-01       NaN    NaN        NaN    ...       NaN        NaN        NaN   \n",
       "2017-01-02  0.011243    NaN        NaN    ...       NaN        NaN        NaN   \n",
       "2017-01-03  0.012373    NaN        NaN    ...       NaN        NaN        NaN   \n",
       "2017-01-04  0.013417    NaN        NaN    ...       NaN        NaN        NaN   \n",
       "2017-01-05  0.010844    NaN        NaN    ...       NaN        NaN        NaN   \n",
       "\n",
       "name        iQuant  iTicoin  iXledger    netBit  onG.social    vSlice  \\\n",
       "date                                                                    \n",
       "2017-01-01     NaN      NaN       NaN  0.000502         NaN  0.081857   \n",
       "2017-01-02     NaN      NaN       NaN  0.000451         NaN  0.077368   \n",
       "2017-01-03     NaN      NaN       NaN  0.000450         NaN  0.062777   \n",
       "2017-01-04     NaN      NaN       NaN  0.000600         NaN  0.057517   \n",
       "2017-01-05     NaN      NaN       NaN       NaN         NaN  0.055768   \n",
       "\n",
       "name        vTorrent  \n",
       "date                  \n",
       "2017-01-01  0.025942  \n",
       "2017-01-02  0.021693  \n",
       "2017-01-03  0.022364  \n",
       "2017-01-04  0.025055  \n",
       "2017-01-05  0.022355  \n",
       "\n",
       "[5 rows x 1397 columns]"
      ]
     },
     "execution_count": 18,
     "metadata": {},
     "output_type": "execute_result"
    }
   ],
   "source": [
    "rates = df1[['date','name','close']]\n",
    "rates = rates.pivot_table(index='date',columns='name', values='close', aggfunc='mean') \n",
    "rates.head()"
   ]
  },
  {
   "cell_type": "markdown",
   "metadata": {},
   "source": [
    "By inspection we can see that there are lots of rows for which there is no data for some currencies, this is likely caused by the fact that many currencies came into existence only later in 2017. \n",
    "\n",
    "Let us construct a dataframe showing the mean and standard deviation of daily returns for each currency."
   ]
  },
  {
   "cell_type": "code",
   "execution_count": 19,
   "metadata": {},
   "outputs": [
    {
     "data": {
      "text/html": [
       "<div>\n",
       "<style scoped>\n",
       "    .dataframe tbody tr th:only-of-type {\n",
       "        vertical-align: middle;\n",
       "    }\n",
       "\n",
       "    .dataframe tbody tr th {\n",
       "        vertical-align: top;\n",
       "    }\n",
       "\n",
       "    .dataframe thead th {\n",
       "        text-align: right;\n",
       "    }\n",
       "</style>\n",
       "<table border=\"1\" class=\"dataframe\">\n",
       "  <thead>\n",
       "    <tr style=\"text-align: right;\">\n",
       "      <th></th>\n",
       "      <th>name</th>\n",
       "      <th>avg</th>\n",
       "      <th>std</th>\n",
       "    </tr>\n",
       "  </thead>\n",
       "  <tbody>\n",
       "    <tr>\n",
       "      <th>0</th>\n",
       "      <td>0x</td>\n",
       "      <td>0.021216</td>\n",
       "      <td>0.113665</td>\n",
       "    </tr>\n",
       "    <tr>\n",
       "      <th>1</th>\n",
       "      <td>10M Token</td>\n",
       "      <td>0.165021</td>\n",
       "      <td>0.729515</td>\n",
       "    </tr>\n",
       "    <tr>\n",
       "      <th>2</th>\n",
       "      <td>1337</td>\n",
       "      <td>0.134956</td>\n",
       "      <td>0.742289</td>\n",
       "    </tr>\n",
       "    <tr>\n",
       "      <th>3</th>\n",
       "      <td>2GIVE</td>\n",
       "      <td>0.022978</td>\n",
       "      <td>0.155210</td>\n",
       "    </tr>\n",
       "    <tr>\n",
       "      <th>4</th>\n",
       "      <td>300 Token</td>\n",
       "      <td>0.021922</td>\n",
       "      <td>0.220645</td>\n",
       "    </tr>\n",
       "  </tbody>\n",
       "</table>\n",
       "</div>"
      ],
      "text/plain": [
       "        name       avg       std\n",
       "0         0x  0.021216  0.113665\n",
       "1  10M Token  0.165021  0.729515\n",
       "2       1337  0.134956  0.742289\n",
       "3      2GIVE  0.022978  0.155210\n",
       "4  300 Token  0.021922  0.220645"
      ]
     },
     "execution_count": 19,
     "metadata": {},
     "output_type": "execute_result"
    }
   ],
   "source": [
    "avg_daily_return = rates.pct_change().mean()\n",
    "std_daily_return = rates.pct_change().std()\n",
    "\n",
    "avg_daily_return = pd.DataFrame(avg_daily_return).reset_index()\n",
    "avg_daily_return.columns = ['name', 'avg']\n",
    "\n",
    "std_daily_return = pd.DataFrame(std_daily_return).reset_index()\n",
    "std_daily_return.columns = ['-', 'std']\n",
    "\n",
    "avg_std_dr = pd.concat([avg_daily_return,std_daily_return], axis=1)\n",
    "avg_std_dr = avg_std_dr[['name','avg','std']]\n",
    "avg_std_dr.head()"
   ]
  },
  {
   "cell_type": "markdown",
   "metadata": {},
   "source": [
    "We can plot these data using a scatter plot, but let us firstly color the three top currencies as we did in earlier plots. "
   ]
  },
  {
   "cell_type": "code",
   "execution_count": 20,
   "metadata": {},
   "outputs": [
    {
     "data": {
      "text/html": [
       "<div>\n",
       "<style scoped>\n",
       "    .dataframe tbody tr th:only-of-type {\n",
       "        vertical-align: middle;\n",
       "    }\n",
       "\n",
       "    .dataframe tbody tr th {\n",
       "        vertical-align: top;\n",
       "    }\n",
       "\n",
       "    .dataframe thead th {\n",
       "        text-align: right;\n",
       "    }\n",
       "</style>\n",
       "<table border=\"1\" class=\"dataframe\">\n",
       "  <thead>\n",
       "    <tr style=\"text-align: right;\">\n",
       "      <th></th>\n",
       "      <th>name</th>\n",
       "      <th>avg</th>\n",
       "      <th>std</th>\n",
       "      <th>colors</th>\n",
       "    </tr>\n",
       "  </thead>\n",
       "  <tbody>\n",
       "    <tr>\n",
       "      <th>150</th>\n",
       "      <td>Bitcoin</td>\n",
       "      <td>0.008508</td>\n",
       "      <td>0.050284</td>\n",
       "      <td>orange</td>\n",
       "    </tr>\n",
       "    <tr>\n",
       "      <th>461</th>\n",
       "      <td>Ethereum</td>\n",
       "      <td>0.016086</td>\n",
       "      <td>0.073026</td>\n",
       "      <td>green</td>\n",
       "    </tr>\n",
       "    <tr>\n",
       "      <th>1031</th>\n",
       "      <td>Ripple</td>\n",
       "      <td>0.022783</td>\n",
       "      <td>0.143775</td>\n",
       "      <td>blue</td>\n",
       "    </tr>\n",
       "  </tbody>\n",
       "</table>\n",
       "</div>"
      ],
      "text/plain": [
       "          name       avg       std  colors\n",
       "150    Bitcoin  0.008508  0.050284  orange\n",
       "461   Ethereum  0.016086  0.073026   green\n",
       "1031    Ripple  0.022783  0.143775    blue"
      ]
     },
     "execution_count": 20,
     "metadata": {},
     "output_type": "execute_result"
    }
   ],
   "source": [
    "avg_std_BER = avg_std_dr.loc[(avg_std_dr.name == 'Bitcoin')|(avg_std_dr.name == 'Ethereum')|(avg_std_dr.name == 'Ripple')]\n",
    "avg_std_BER['colors'] = COLORS\n",
    "avg_std_BER.head()"
   ]
  },
  {
   "cell_type": "markdown",
   "metadata": {},
   "source": [
    "We will use an interactive Bokeh plot, this lets the viewer hover over datapoints to show to which currency it belongs. Furthermore, this method is useful as it allows the viewer to zoom and move through the plot, which may be sought after in a scatter plot with so many data points. "
   ]
  },
  {
   "cell_type": "code",
   "execution_count": 21,
   "metadata": {},
   "outputs": [
    {
     "data": {
      "text/html": [
       "\n",
       "    <div class=\"bk-root\">\n",
       "        <a href=\"https://bokeh.pydata.org\" target=\"_blank\" class=\"bk-logo bk-logo-small bk-logo-notebook\"></a>\n",
       "        <span id=\"8e231c15-51dd-454e-9e1d-8e74e8fa82c1\">Loading BokehJS ...</span>\n",
       "    </div>"
      ]
     },
     "metadata": {},
     "output_type": "display_data"
    },
    {
     "data": {
      "application/javascript": [
       "\n",
       "(function(root) {\n",
       "  function now() {\n",
       "    return new Date();\n",
       "  }\n",
       "\n",
       "  var force = true;\n",
       "\n",
       "  if (typeof (root._bokeh_onload_callbacks) === \"undefined\" || force === true) {\n",
       "    root._bokeh_onload_callbacks = [];\n",
       "    root._bokeh_is_loading = undefined;\n",
       "  }\n",
       "\n",
       "  var JS_MIME_TYPE = 'application/javascript';\n",
       "  var HTML_MIME_TYPE = 'text/html';\n",
       "  var EXEC_MIME_TYPE = 'application/vnd.bokehjs_exec.v0+json';\n",
       "  var CLASS_NAME = 'output_bokeh rendered_html';\n",
       "\n",
       "  /**\n",
       "   * Render data to the DOM node\n",
       "   */\n",
       "  function render(props, node) {\n",
       "    var script = document.createElement(\"script\");\n",
       "    node.appendChild(script);\n",
       "  }\n",
       "\n",
       "  /**\n",
       "   * Handle when an output is cleared or removed\n",
       "   */\n",
       "  function handleClearOutput(event, handle) {\n",
       "    var cell = handle.cell;\n",
       "\n",
       "    var id = cell.output_area._bokeh_element_id;\n",
       "    var server_id = cell.output_area._bokeh_server_id;\n",
       "    // Clean up Bokeh references\n",
       "    if (id !== undefined) {\n",
       "      Bokeh.index[id].model.document.clear();\n",
       "      delete Bokeh.index[id];\n",
       "    }\n",
       "\n",
       "    if (server_id !== undefined) {\n",
       "      // Clean up Bokeh references\n",
       "      var cmd = \"from bokeh.io.state import curstate; print(curstate().uuid_to_server['\" + server_id + \"'].get_sessions()[0].document.roots[0]._id)\";\n",
       "      cell.notebook.kernel.execute(cmd, {\n",
       "        iopub: {\n",
       "          output: function(msg) {\n",
       "            var element_id = msg.content.text.trim();\n",
       "            Bokeh.index[element_id].model.document.clear();\n",
       "            delete Bokeh.index[element_id];\n",
       "          }\n",
       "        }\n",
       "      });\n",
       "      // Destroy server and session\n",
       "      var cmd = \"import bokeh.io.notebook as ion; ion.destroy_server('\" + server_id + \"')\";\n",
       "      cell.notebook.kernel.execute(cmd);\n",
       "    }\n",
       "  }\n",
       "\n",
       "  /**\n",
       "   * Handle when a new output is added\n",
       "   */\n",
       "  function handleAddOutput(event, handle) {\n",
       "    var output_area = handle.output_area;\n",
       "    var output = handle.output;\n",
       "\n",
       "    // limit handleAddOutput to display_data with EXEC_MIME_TYPE content only\n",
       "    if ((output.output_type != \"display_data\") || (!output.data.hasOwnProperty(EXEC_MIME_TYPE))) {\n",
       "      return\n",
       "    }\n",
       "\n",
       "    var toinsert = output_area.element.find(\".\" + CLASS_NAME.split(' ')[0]);\n",
       "\n",
       "    if (output.metadata[EXEC_MIME_TYPE][\"id\"] !== undefined) {\n",
       "      toinsert[0].firstChild.textContent = output.data[JS_MIME_TYPE];\n",
       "      // store reference to embed id on output_area\n",
       "      output_area._bokeh_element_id = output.metadata[EXEC_MIME_TYPE][\"id\"];\n",
       "    }\n",
       "    if (output.metadata[EXEC_MIME_TYPE][\"server_id\"] !== undefined) {\n",
       "      var bk_div = document.createElement(\"div\");\n",
       "      bk_div.innerHTML = output.data[HTML_MIME_TYPE];\n",
       "      var script_attrs = bk_div.children[0].attributes;\n",
       "      for (var i = 0; i < script_attrs.length; i++) {\n",
       "        toinsert[0].firstChild.setAttribute(script_attrs[i].name, script_attrs[i].value);\n",
       "      }\n",
       "      // store reference to server id on output_area\n",
       "      output_area._bokeh_server_id = output.metadata[EXEC_MIME_TYPE][\"server_id\"];\n",
       "    }\n",
       "  }\n",
       "\n",
       "  function register_renderer(events, OutputArea) {\n",
       "\n",
       "    function append_mime(data, metadata, element) {\n",
       "      // create a DOM node to render to\n",
       "      var toinsert = this.create_output_subarea(\n",
       "        metadata,\n",
       "        CLASS_NAME,\n",
       "        EXEC_MIME_TYPE\n",
       "      );\n",
       "      this.keyboard_manager.register_events(toinsert);\n",
       "      // Render to node\n",
       "      var props = {data: data, metadata: metadata[EXEC_MIME_TYPE]};\n",
       "      render(props, toinsert[0]);\n",
       "      element.append(toinsert);\n",
       "      return toinsert\n",
       "    }\n",
       "\n",
       "    /* Handle when an output is cleared or removed */\n",
       "    events.on('clear_output.CodeCell', handleClearOutput);\n",
       "    events.on('delete.Cell', handleClearOutput);\n",
       "\n",
       "    /* Handle when a new output is added */\n",
       "    events.on('output_added.OutputArea', handleAddOutput);\n",
       "\n",
       "    /**\n",
       "     * Register the mime type and append_mime function with output_area\n",
       "     */\n",
       "    OutputArea.prototype.register_mime_type(EXEC_MIME_TYPE, append_mime, {\n",
       "      /* Is output safe? */\n",
       "      safe: true,\n",
       "      /* Index of renderer in `output_area.display_order` */\n",
       "      index: 0\n",
       "    });\n",
       "  }\n",
       "\n",
       "  // register the mime type if in Jupyter Notebook environment and previously unregistered\n",
       "  if (root.Jupyter !== undefined) {\n",
       "    var events = require('base/js/events');\n",
       "    var OutputArea = require('notebook/js/outputarea').OutputArea;\n",
       "\n",
       "    if (OutputArea.prototype.mime_types().indexOf(EXEC_MIME_TYPE) == -1) {\n",
       "      register_renderer(events, OutputArea);\n",
       "    }\n",
       "  }\n",
       "\n",
       "  \n",
       "  if (typeof (root._bokeh_timeout) === \"undefined\" || force === true) {\n",
       "    root._bokeh_timeout = Date.now() + 5000;\n",
       "    root._bokeh_failed_load = false;\n",
       "  }\n",
       "\n",
       "  var NB_LOAD_WARNING = {'data': {'text/html':\n",
       "     \"<div style='background-color: #fdd'>\\n\"+\n",
       "     \"<p>\\n\"+\n",
       "     \"BokehJS does not appear to have successfully loaded. If loading BokehJS from CDN, this \\n\"+\n",
       "     \"may be due to a slow or bad network connection. Possible fixes:\\n\"+\n",
       "     \"</p>\\n\"+\n",
       "     \"<ul>\\n\"+\n",
       "     \"<li>re-rerun `output_notebook()` to attempt to load from CDN again, or</li>\\n\"+\n",
       "     \"<li>use INLINE resources instead, as so:</li>\\n\"+\n",
       "     \"</ul>\\n\"+\n",
       "     \"<code>\\n\"+\n",
       "     \"from bokeh.resources import INLINE\\n\"+\n",
       "     \"output_notebook(resources=INLINE)\\n\"+\n",
       "     \"</code>\\n\"+\n",
       "     \"</div>\"}};\n",
       "\n",
       "  function display_loaded() {\n",
       "    var el = document.getElementById(\"8e231c15-51dd-454e-9e1d-8e74e8fa82c1\");\n",
       "    if (el != null) {\n",
       "      el.textContent = \"BokehJS is loading...\";\n",
       "    }\n",
       "    if (root.Bokeh !== undefined) {\n",
       "      if (el != null) {\n",
       "        el.textContent = \"BokehJS \" + root.Bokeh.version + \" successfully loaded.\";\n",
       "      }\n",
       "    } else if (Date.now() < root._bokeh_timeout) {\n",
       "      setTimeout(display_loaded, 100)\n",
       "    }\n",
       "  }\n",
       "\n",
       "\n",
       "  function run_callbacks() {\n",
       "    try {\n",
       "      root._bokeh_onload_callbacks.forEach(function(callback) { callback() });\n",
       "    }\n",
       "    finally {\n",
       "      delete root._bokeh_onload_callbacks\n",
       "    }\n",
       "    console.info(\"Bokeh: all callbacks have finished\");\n",
       "  }\n",
       "\n",
       "  function load_libs(js_urls, callback) {\n",
       "    root._bokeh_onload_callbacks.push(callback);\n",
       "    if (root._bokeh_is_loading > 0) {\n",
       "      console.log(\"Bokeh: BokehJS is being loaded, scheduling callback at\", now());\n",
       "      return null;\n",
       "    }\n",
       "    if (js_urls == null || js_urls.length === 0) {\n",
       "      run_callbacks();\n",
       "      return null;\n",
       "    }\n",
       "    console.log(\"Bokeh: BokehJS not loaded, scheduling load and callback at\", now());\n",
       "    root._bokeh_is_loading = js_urls.length;\n",
       "    for (var i = 0; i < js_urls.length; i++) {\n",
       "      var url = js_urls[i];\n",
       "      var s = document.createElement('script');\n",
       "      s.src = url;\n",
       "      s.async = false;\n",
       "      s.onreadystatechange = s.onload = function() {\n",
       "        root._bokeh_is_loading--;\n",
       "        if (root._bokeh_is_loading === 0) {\n",
       "          console.log(\"Bokeh: all BokehJS libraries loaded\");\n",
       "          run_callbacks()\n",
       "        }\n",
       "      };\n",
       "      s.onerror = function() {\n",
       "        console.warn(\"failed to load library \" + url);\n",
       "      };\n",
       "      console.log(\"Bokeh: injecting script tag for BokehJS library: \", url);\n",
       "      document.getElementsByTagName(\"head\")[0].appendChild(s);\n",
       "    }\n",
       "  };var element = document.getElementById(\"8e231c15-51dd-454e-9e1d-8e74e8fa82c1\");\n",
       "  if (element == null) {\n",
       "    console.log(\"Bokeh: ERROR: autoload.js configured with elementid '8e231c15-51dd-454e-9e1d-8e74e8fa82c1' but no matching script tag was found. \")\n",
       "    return false;\n",
       "  }\n",
       "\n",
       "  var js_urls = [\"https://cdn.pydata.org/bokeh/release/bokeh-0.12.13.min.js\", \"https://cdn.pydata.org/bokeh/release/bokeh-widgets-0.12.13.min.js\", \"https://cdn.pydata.org/bokeh/release/bokeh-tables-0.12.13.min.js\", \"https://cdn.pydata.org/bokeh/release/bokeh-gl-0.12.13.min.js\"];\n",
       "\n",
       "  var inline_js = [\n",
       "    function(Bokeh) {\n",
       "      Bokeh.set_log_level(\"info\");\n",
       "    },\n",
       "    \n",
       "    function(Bokeh) {\n",
       "      \n",
       "    },\n",
       "    function(Bokeh) {\n",
       "      console.log(\"Bokeh: injecting CSS: https://cdn.pydata.org/bokeh/release/bokeh-0.12.13.min.css\");\n",
       "      Bokeh.embed.inject_css(\"https://cdn.pydata.org/bokeh/release/bokeh-0.12.13.min.css\");\n",
       "      console.log(\"Bokeh: injecting CSS: https://cdn.pydata.org/bokeh/release/bokeh-widgets-0.12.13.min.css\");\n",
       "      Bokeh.embed.inject_css(\"https://cdn.pydata.org/bokeh/release/bokeh-widgets-0.12.13.min.css\");\n",
       "      console.log(\"Bokeh: injecting CSS: https://cdn.pydata.org/bokeh/release/bokeh-tables-0.12.13.min.css\");\n",
       "      Bokeh.embed.inject_css(\"https://cdn.pydata.org/bokeh/release/bokeh-tables-0.12.13.min.css\");\n",
       "    }\n",
       "  ];\n",
       "\n",
       "  function run_inline_js() {\n",
       "    \n",
       "    if ((root.Bokeh !== undefined) || (force === true)) {\n",
       "      for (var i = 0; i < inline_js.length; i++) {\n",
       "        inline_js[i].call(root, root.Bokeh);\n",
       "      }if (force === true) {\n",
       "        display_loaded();\n",
       "      }} else if (Date.now() < root._bokeh_timeout) {\n",
       "      setTimeout(run_inline_js, 100);\n",
       "    } else if (!root._bokeh_failed_load) {\n",
       "      console.log(\"Bokeh: BokehJS failed to load within specified timeout.\");\n",
       "      root._bokeh_failed_load = true;\n",
       "    } else if (force !== true) {\n",
       "      var cell = $(document.getElementById(\"8e231c15-51dd-454e-9e1d-8e74e8fa82c1\")).parents('.cell').data().cell;\n",
       "      cell.output_area.append_execute_result(NB_LOAD_WARNING)\n",
       "    }\n",
       "\n",
       "  }\n",
       "\n",
       "  if (root._bokeh_is_loading === 0) {\n",
       "    console.log(\"Bokeh: BokehJS loaded, going straight to plotting\");\n",
       "    run_inline_js();\n",
       "  } else {\n",
       "    load_libs(js_urls, function() {\n",
       "      console.log(\"Bokeh: BokehJS plotting callback run at\", now());\n",
       "      run_inline_js();\n",
       "    });\n",
       "  }\n",
       "}(window));"
      ],
      "application/vnd.bokehjs_load.v0+json": "\n(function(root) {\n  function now() {\n    return new Date();\n  }\n\n  var force = true;\n\n  if (typeof (root._bokeh_onload_callbacks) === \"undefined\" || force === true) {\n    root._bokeh_onload_callbacks = [];\n    root._bokeh_is_loading = undefined;\n  }\n\n  \n\n  \n  if (typeof (root._bokeh_timeout) === \"undefined\" || force === true) {\n    root._bokeh_timeout = Date.now() + 5000;\n    root._bokeh_failed_load = false;\n  }\n\n  var NB_LOAD_WARNING = {'data': {'text/html':\n     \"<div style='background-color: #fdd'>\\n\"+\n     \"<p>\\n\"+\n     \"BokehJS does not appear to have successfully loaded. If loading BokehJS from CDN, this \\n\"+\n     \"may be due to a slow or bad network connection. Possible fixes:\\n\"+\n     \"</p>\\n\"+\n     \"<ul>\\n\"+\n     \"<li>re-rerun `output_notebook()` to attempt to load from CDN again, or</li>\\n\"+\n     \"<li>use INLINE resources instead, as so:</li>\\n\"+\n     \"</ul>\\n\"+\n     \"<code>\\n\"+\n     \"from bokeh.resources import INLINE\\n\"+\n     \"output_notebook(resources=INLINE)\\n\"+\n     \"</code>\\n\"+\n     \"</div>\"}};\n\n  function display_loaded() {\n    var el = document.getElementById(\"8e231c15-51dd-454e-9e1d-8e74e8fa82c1\");\n    if (el != null) {\n      el.textContent = \"BokehJS is loading...\";\n    }\n    if (root.Bokeh !== undefined) {\n      if (el != null) {\n        el.textContent = \"BokehJS \" + root.Bokeh.version + \" successfully loaded.\";\n      }\n    } else if (Date.now() < root._bokeh_timeout) {\n      setTimeout(display_loaded, 100)\n    }\n  }\n\n\n  function run_callbacks() {\n    try {\n      root._bokeh_onload_callbacks.forEach(function(callback) { callback() });\n    }\n    finally {\n      delete root._bokeh_onload_callbacks\n    }\n    console.info(\"Bokeh: all callbacks have finished\");\n  }\n\n  function load_libs(js_urls, callback) {\n    root._bokeh_onload_callbacks.push(callback);\n    if (root._bokeh_is_loading > 0) {\n      console.log(\"Bokeh: BokehJS is being loaded, scheduling callback at\", now());\n      return null;\n    }\n    if (js_urls == null || js_urls.length === 0) {\n      run_callbacks();\n      return null;\n    }\n    console.log(\"Bokeh: BokehJS not loaded, scheduling load and callback at\", now());\n    root._bokeh_is_loading = js_urls.length;\n    for (var i = 0; i < js_urls.length; i++) {\n      var url = js_urls[i];\n      var s = document.createElement('script');\n      s.src = url;\n      s.async = false;\n      s.onreadystatechange = s.onload = function() {\n        root._bokeh_is_loading--;\n        if (root._bokeh_is_loading === 0) {\n          console.log(\"Bokeh: all BokehJS libraries loaded\");\n          run_callbacks()\n        }\n      };\n      s.onerror = function() {\n        console.warn(\"failed to load library \" + url);\n      };\n      console.log(\"Bokeh: injecting script tag for BokehJS library: \", url);\n      document.getElementsByTagName(\"head\")[0].appendChild(s);\n    }\n  };var element = document.getElementById(\"8e231c15-51dd-454e-9e1d-8e74e8fa82c1\");\n  if (element == null) {\n    console.log(\"Bokeh: ERROR: autoload.js configured with elementid '8e231c15-51dd-454e-9e1d-8e74e8fa82c1' but no matching script tag was found. \")\n    return false;\n  }\n\n  var js_urls = [\"https://cdn.pydata.org/bokeh/release/bokeh-0.12.13.min.js\", \"https://cdn.pydata.org/bokeh/release/bokeh-widgets-0.12.13.min.js\", \"https://cdn.pydata.org/bokeh/release/bokeh-tables-0.12.13.min.js\", \"https://cdn.pydata.org/bokeh/release/bokeh-gl-0.12.13.min.js\"];\n\n  var inline_js = [\n    function(Bokeh) {\n      Bokeh.set_log_level(\"info\");\n    },\n    \n    function(Bokeh) {\n      \n    },\n    function(Bokeh) {\n      console.log(\"Bokeh: injecting CSS: https://cdn.pydata.org/bokeh/release/bokeh-0.12.13.min.css\");\n      Bokeh.embed.inject_css(\"https://cdn.pydata.org/bokeh/release/bokeh-0.12.13.min.css\");\n      console.log(\"Bokeh: injecting CSS: https://cdn.pydata.org/bokeh/release/bokeh-widgets-0.12.13.min.css\");\n      Bokeh.embed.inject_css(\"https://cdn.pydata.org/bokeh/release/bokeh-widgets-0.12.13.min.css\");\n      console.log(\"Bokeh: injecting CSS: https://cdn.pydata.org/bokeh/release/bokeh-tables-0.12.13.min.css\");\n      Bokeh.embed.inject_css(\"https://cdn.pydata.org/bokeh/release/bokeh-tables-0.12.13.min.css\");\n    }\n  ];\n\n  function run_inline_js() {\n    \n    if ((root.Bokeh !== undefined) || (force === true)) {\n      for (var i = 0; i < inline_js.length; i++) {\n        inline_js[i].call(root, root.Bokeh);\n      }if (force === true) {\n        display_loaded();\n      }} else if (Date.now() < root._bokeh_timeout) {\n      setTimeout(run_inline_js, 100);\n    } else if (!root._bokeh_failed_load) {\n      console.log(\"Bokeh: BokehJS failed to load within specified timeout.\");\n      root._bokeh_failed_load = true;\n    } else if (force !== true) {\n      var cell = $(document.getElementById(\"8e231c15-51dd-454e-9e1d-8e74e8fa82c1\")).parents('.cell').data().cell;\n      cell.output_area.append_execute_result(NB_LOAD_WARNING)\n    }\n\n  }\n\n  if (root._bokeh_is_loading === 0) {\n    console.log(\"Bokeh: BokehJS loaded, going straight to plotting\");\n    run_inline_js();\n  } else {\n    load_libs(js_urls, function() {\n      console.log(\"Bokeh: BokehJS plotting callback run at\", now());\n      run_inline_js();\n    });\n  }\n}(window));"
     },
     "metadata": {},
     "output_type": "display_data"
    },
    {
     "data": {
      "text/html": [
       "\n",
       "<div class=\"bk-root\">\n",
       "    <div class=\"bk-plotdiv\" id=\"9890ea42-7fe5-4e5d-9a9e-c3dbc2217ff6\"></div>\n",
       "</div>"
      ]
     },
     "metadata": {},
     "output_type": "display_data"
    },
    {
     "data": {
      "application/javascript": [
       "(function(root) {\n",
       "  function embed_document(root) {\n",
       "    \n",
       "  var docs_json = {\"23ae934c-ca15-4b2b-b424-8133c64bdd34\":{\"roots\":{\"references\":[{\"attributes\":{\"plot\":{\"id\":\"d99425b7-70f1-4af0-b333-f9bac8bc52b6\",\"subtype\":\"Figure\",\"type\":\"Plot\"},\"ticker\":{\"id\":\"8664f820-0ad4-4237-845c-0571afb2e7cb\",\"type\":\"BasicTicker\"}},\"id\":\"97f57f38-d116-41bd-9870-331149fe8220\",\"type\":\"Grid\"},{\"attributes\":{\"below\":[{\"id\":\"7550a579-0e13-4b2a-925e-5510f2e36316\",\"type\":\"LinearAxis\"}],\"left\":[{\"id\":\"e96cb902-e8c3-4389-a52f-bb13ff4bb895\",\"type\":\"LinearAxis\"}],\"plot_width\":1000,\"renderers\":[{\"id\":\"7550a579-0e13-4b2a-925e-5510f2e36316\",\"type\":\"LinearAxis\"},{\"id\":\"97f57f38-d116-41bd-9870-331149fe8220\",\"type\":\"Grid\"},{\"id\":\"e96cb902-e8c3-4389-a52f-bb13ff4bb895\",\"type\":\"LinearAxis\"},{\"id\":\"3dde405f-50d9-49ec-9cbb-ae40ff6c3c48\",\"type\":\"Grid\"},{\"id\":\"aae42868-1c3b-4a51-b7cc-e84fa5cb53f2\",\"type\":\"BoxAnnotation\"},{\"id\":\"543db1a8-5061-424d-a67b-e7f23cec7023\",\"type\":\"GlyphRenderer\"},{\"id\":\"5b5f486d-42f7-4faa-89e1-484ad0567721\",\"type\":\"GlyphRenderer\"}],\"title\":{\"id\":\"3a2c80c4-b2c8-40a3-8c76-6e9ec03051bc\",\"type\":\"Title\"},\"toolbar\":{\"id\":\"0143ffe3-aa55-46f1-ae14-5b914beb08fa\",\"type\":\"Toolbar\"},\"x_range\":{\"id\":\"d11e318b-12dc-4dfb-a13e-6113190baf97\",\"type\":\"Range1d\"},\"x_scale\":{\"id\":\"9e89b840-2cb9-42b7-9c1d-6d2b86fda1e4\",\"type\":\"LinearScale\"},\"y_range\":{\"id\":\"dd958e86-d61a-4b90-acee-0dc9523fc8e1\",\"type\":\"Range1d\"},\"y_scale\":{\"id\":\"ae90e78e-465c-40ef-8246-f2ccb7f97842\",\"type\":\"LinearScale\"}},\"id\":\"d99425b7-70f1-4af0-b333-f9bac8bc52b6\",\"subtype\":\"Figure\",\"type\":\"Plot\"},{\"attributes\":{},\"id\":\"9e89b840-2cb9-42b7-9c1d-6d2b86fda1e4\",\"type\":\"LinearScale\"},{\"attributes\":{\"source\":{\"id\":\"53197269-1f07-49a7-9487-1eaf491a646c\",\"type\":\"ColumnDataSource\"}},\"id\":\"9d4e34e8-5171-47cb-b2c0-79aa0f1b3227\",\"type\":\"CDSView\"},{\"attributes\":{},\"id\":\"b46ce272-833d-447e-9b8b-ec626c77116a\",\"type\":\"BasicTickFormatter\"},{\"attributes\":{},\"id\":\"b89ac263-953c-49f7-8096-1f5ce8438d64\",\"type\":\"BasicTicker\"},{\"attributes\":{\"fill_color\":{\"field\":\"colors\"},\"size\":{\"units\":\"screen\",\"value\":15},\"x\":{\"field\":\"std\"},\"y\":{\"field\":\"avg\"}},\"id\":\"1ba47208-e2fc-4841-a74c-e879686609d2\",\"type\":\"InvertedTriangle\"},{\"attributes\":{\"bottom_units\":\"screen\",\"fill_alpha\":{\"value\":0.5},\"fill_color\":{\"value\":\"lightgrey\"},\"left_units\":\"screen\",\"level\":\"overlay\",\"line_alpha\":{\"value\":1.0},\"line_color\":{\"value\":\"black\"},\"line_dash\":[4,4],\"line_width\":{\"value\":2},\"plot\":null,\"render_mode\":\"css\",\"right_units\":\"screen\",\"top_units\":\"screen\"},\"id\":\"aae42868-1c3b-4a51-b7cc-e84fa5cb53f2\",\"type\":\"BoxAnnotation\"},{\"attributes\":{\"callback\":null,\"column_names\":[\"name\",\"avg\",\"std\",\"colors\",\"index\"],\"data\":{\"avg\":{\"__ndarray__\":\"bV0MhXxsgT9RDT8s13iQP9wcjeFTVJc/\",\"dtype\":\"float64\",\"shape\":[3]},\"colors\":[\"orange\",\"green\",\"blue\"],\"index\":[150,461,1031],\"name\":[\"Bitcoin\",\"Ethereum\",\"Ripple\"],\"std\":{\"__ndarray__\":\"vcn+O8m+qT+GRqW7zLGyP5wOyDI8Z8I/\",\"dtype\":\"float64\",\"shape\":[3]}}},\"id\":\"53197269-1f07-49a7-9487-1eaf491a646c\",\"type\":\"ColumnDataSource\"},{\"attributes\":{\"overlay\":{\"id\":\"aae42868-1c3b-4a51-b7cc-e84fa5cb53f2\",\"type\":\"BoxAnnotation\"}},\"id\":\"8fa469cf-72ac-4bff-8df7-225a299ecef8\",\"type\":\"BoxZoomTool\"},{\"attributes\":{},\"id\":\"ae90e78e-465c-40ef-8246-f2ccb7f97842\",\"type\":\"LinearScale\"},{\"attributes\":{\"callback\":null},\"id\":\"d11e318b-12dc-4dfb-a13e-6113190baf97\",\"type\":\"Range1d\"},{\"attributes\":{\"fill_alpha\":{\"value\":0.1},\"fill_color\":{\"value\":\"#1f77b4\"},\"line_alpha\":{\"value\":0.1},\"line_color\":{\"value\":\"#1f77b4\"},\"size\":{\"units\":\"screen\",\"value\":5},\"x\":{\"field\":\"std\"},\"y\":{\"field\":\"avg\"}},\"id\":\"a2b84662-e9f0-4e09-9bcd-cfe7638435b0\",\"type\":\"Circle\"},{\"attributes\":{\"data_source\":{\"id\":\"af623eba-a39e-49e0-80ec-228e047ce404\",\"type\":\"ColumnDataSource\"},\"glyph\":{\"id\":\"dd8bf1e9-182c-4e8a-a415-34073df38062\",\"type\":\"Circle\"},\"hover_glyph\":null,\"muted_glyph\":null,\"nonselection_glyph\":{\"id\":\"a2b84662-e9f0-4e09-9bcd-cfe7638435b0\",\"type\":\"Circle\"},\"selection_glyph\":null,\"view\":{\"id\":\"85fbe909-9735-43b1-8e98-066dc858e5a0\",\"type\":\"CDSView\"}},\"id\":\"543db1a8-5061-424d-a67b-e7f23cec7023\",\"type\":\"GlyphRenderer\"},{\"attributes\":{\"active_drag\":\"auto\",\"active_inspect\":\"auto\",\"active_scroll\":\"auto\",\"active_tap\":\"auto\",\"tools\":[{\"id\":\"acfebd0e-9427-4213-b7c5-9f17f11f7f3e\",\"type\":\"PanTool\"},{\"id\":\"21470448-1c0a-4032-b7a4-3bb7b3aae95a\",\"type\":\"WheelZoomTool\"},{\"id\":\"8fa469cf-72ac-4bff-8df7-225a299ecef8\",\"type\":\"BoxZoomTool\"},{\"id\":\"68ed5fce-6805-47f0-a77a-8d6742fde14e\",\"type\":\"SaveTool\"},{\"id\":\"a7837511-7a05-4939-b380-cdeab192866e\",\"type\":\"ResetTool\"},{\"id\":\"67e05b9a-4e45-43f1-8699-84bfd2830597\",\"type\":\"HelpTool\"},{\"id\":\"0527ba93-d7ec-4de9-ae72-292df04af6cc\",\"type\":\"HoverTool\"}]},\"id\":\"0143ffe3-aa55-46f1-ae14-5b914beb08fa\",\"type\":\"Toolbar\"},{\"attributes\":{},\"id\":\"68ed5fce-6805-47f0-a77a-8d6742fde14e\",\"type\":\"SaveTool\"},{\"attributes\":{\"axis_label\":\"Std. dev. of daily returns\",\"formatter\":{\"id\":\"25b4dbc9-82b9-4d38-80ca-551ab42fc4d7\",\"type\":\"BasicTickFormatter\"},\"plot\":{\"id\":\"d99425b7-70f1-4af0-b333-f9bac8bc52b6\",\"subtype\":\"Figure\",\"type\":\"Plot\"},\"ticker\":{\"id\":\"8664f820-0ad4-4237-845c-0571afb2e7cb\",\"type\":\"BasicTicker\"}},\"id\":\"7550a579-0e13-4b2a-925e-5510f2e36316\",\"type\":\"LinearAxis\"},{\"attributes\":{\"fill_color\":{\"value\":\"#1f77b4\"},\"line_color\":{\"value\":\"#1f77b4\"},\"size\":{\"units\":\"screen\",\"value\":5},\"x\":{\"field\":\"std\"},\"y\":{\"field\":\"avg\"}},\"id\":\"dd8bf1e9-182c-4e8a-a415-34073df38062\",\"type\":\"Circle\"},{\"attributes\":{\"callback\":null,\"tooltips\":[[\"Currency\",\"@name\"]]},\"id\":\"0527ba93-d7ec-4de9-ae72-292df04af6cc\",\"type\":\"HoverTool\"},{\"attributes\":{},\"id\":\"25b4dbc9-82b9-4d38-80ca-551ab42fc4d7\",\"type\":\"BasicTickFormatter\"},{\"attributes\":{\"plot\":null,\"text\":\"avg/std relations for each cryptocurrency\"},\"id\":\"3a2c80c4-b2c8-40a3-8c76-6e9ec03051bc\",\"type\":\"Title\"},{\"attributes\":{\"callback\":null,\"end\":0.2,\"start\":-0.05},\"id\":\"dd958e86-d61a-4b90-acee-0dc9523fc8e1\",\"type\":\"Range1d\"},{\"attributes\":{\"dimension\":1,\"plot\":{\"id\":\"d99425b7-70f1-4af0-b333-f9bac8bc52b6\",\"subtype\":\"Figure\",\"type\":\"Plot\"},\"ticker\":{\"id\":\"b89ac263-953c-49f7-8096-1f5ce8438d64\",\"type\":\"BasicTicker\"}},\"id\":\"3dde405f-50d9-49ec-9cbb-ae40ff6c3c48\",\"type\":\"Grid\"},{\"attributes\":{\"axis_label\":\"Average daily return\",\"formatter\":{\"id\":\"b46ce272-833d-447e-9b8b-ec626c77116a\",\"type\":\"BasicTickFormatter\"},\"plot\":{\"id\":\"d99425b7-70f1-4af0-b333-f9bac8bc52b6\",\"subtype\":\"Figure\",\"type\":\"Plot\"},\"ticker\":{\"id\":\"b89ac263-953c-49f7-8096-1f5ce8438d64\",\"type\":\"BasicTicker\"}},\"id\":\"e96cb902-e8c3-4389-a52f-bb13ff4bb895\",\"type\":\"LinearAxis\"},{\"attributes\":{},\"id\":\"a7837511-7a05-4939-b380-cdeab192866e\",\"type\":\"ResetTool\"},{\"attributes\":{\"source\":{\"id\":\"af623eba-a39e-49e0-80ec-228e047ce404\",\"type\":\"ColumnDataSource\"}},\"id\":\"85fbe909-9735-43b1-8e98-066dc858e5a0\",\"type\":\"CDSView\"},{\"attributes\":{\"data_source\":{\"id\":\"53197269-1f07-49a7-9487-1eaf491a646c\",\"type\":\"ColumnDataSource\"},\"glyph\":{\"id\":\"1ba47208-e2fc-4841-a74c-e879686609d2\",\"type\":\"InvertedTriangle\"},\"hover_glyph\":null,\"muted_glyph\":null,\"nonselection_glyph\":{\"id\":\"9d08d0a8-2883-41cb-b5af-04cedf07b5d0\",\"type\":\"InvertedTriangle\"},\"selection_glyph\":null,\"view\":{\"id\":\"9d4e34e8-5171-47cb-b2c0-79aa0f1b3227\",\"type\":\"CDSView\"}},\"id\":\"5b5f486d-42f7-4faa-89e1-484ad0567721\",\"type\":\"GlyphRenderer\"},{\"attributes\":{\"callback\":null,\"column_names\":[\"name\",\"avg\",\"std\",\"index\"],\"data\":{\"avg\":{\"__ndarray__\":\"QFCgR6K5lT+8uFucZx/FP2Hj6ew6RsE/dzsk2KqHlz/4IlWOznKWP7YtmgItEKE/Pu4Kta2loT93N3hxZgqfP7+7zSbfpJ0/AAAAAAAA+H+vs4ywN/ugPw0k/i0Jyrc/V3qWBNJBkj/hHAO+g2mLPykVHl6qsJ4/7rCCQvGEgz9hDZkkX5emP66kAuA1tJ4/RzUZgTBxkT+mOVkzIZfSP2ufa4I4cqc/0xS7u1hQqT8lHNthsBW1PxHRt3wWocM/+FmR6hheoD+oIX2liqOgP2LdPvunkqE/SAAQSosioT90504NqmaTPwfmJJj+u6s///AFypDJwT+2NfzWnyqMP58hVKdwz5M/lQHa43GOrT8X2jwMhWu7Pz0g6q1cTZg/m9LI8/KykD8v9uw+30SSPzpe3u6Eecw/qSFPFflhrz8xpSxQX4itP7seQSxQL5k/Rsfd/lv7mz/U53FjN26zP2LVURMvXldArQ6wyXiTsT9udY4PxUKTPwzKUyRWIh5AtW5Lr0aPlz/kyfrQ0IeiP0/Dy/2sqJw/ZyOnXiA0pD/P61Y1MgSzPydel0sI4KE/qp8GZR6g5T/9BpbYCiu3P4LQiq5MccE/qFXGQF4Jpz/NUxeCYt2nP8901nhY6eY/wGPKAP/3qT8It/gEw/WUv5DuO4tSBqI/sm1j4vh1hj9Mrph80ezyP+ndagDYYqU/r/j/U6rCkj90OldhP7GrP3GELEIIjus/Yvy4aAh0rj9ZZ9C8QVCcPzugIB43NJs/eRFLDelppD8JMnOk212gP9Wyuv39uMM/ptbTTSDBpj8KmtMNQuB5P4EE9XvEt5Y/WKsI/HyTmD9zZTqsUjucP37RuvLDK5s/cBoC5txwiT/Jw9K7KbGJP+VUwGHNxbI/FaQ+wY4Uoz/tynyhZEHDP7CR23sSvbU/ppRM2E/bhT86LmTZ74/dP3yE8ezydIE/rMr1SsCzjT/yvwehiUDEP+y6wrsvBIY/CBJr0lXpnz8ZXrl57CGmPzlgHM3TA7I/X44sc6g1vT/L1myd/u+yPyXMCiNtU50/iWeSSAVQuj9610FT6AKWPxJNYUAzg8g/sw9u+TQnvj/l/tLqy1LFPwlXFXxRZKY/+kKNaYEMaD9DbE2pZz6wP/dajXYndYk/q7GlB8oNpT8ROViQKWexP4D2XFJzNaE/3GQ4XYesoz+ueMZr3aS3P+Dbg+mAFac/uuBdanyejz/i1k2Wgr2pPzxSyVN7i6Y/p1HK9nxYwz+bXe+06byiP69YB6Rbkr8/Mns2jb+1tT+tycOEvmWzPyM2iCUROps/Vos3tyomoD+X6GU8WTKlP08l48Ub+Kg/RtHuQkUlwT9e80w/1GGbP0BKbpgeObw/Tfic1zXVoz/SH3o782+kP6S18z1J26M/G+RQl4f1uD+BVoy7SZ+yP3AxUljlSZk/YDN65pFNtT9ZhTqKlMjCP0t+HfYwsKg/wW+vljbbmz/qkbIAwI2MP9Q4rzPLDqo/b4v/pxO7nT8quK7okvaUvyr6ZVPVB5Q/aCyB2BtBhj+UBPv+BH7HP/3rsdXKrJA/NanCybSMfb90vNg3v0SmP0ssl+iLkbI/bV0MhXxsgT8YpaQKulCsP6Qd7GMszpM/wNd39oFDkL8L3uvgrYywP8k69arAxYc/b3NfQtZfuT+f42sjtzmxP7+WTgxJiMQ/OJvKwzR5oT+TYf0h7MCjPzJH78H7kaQ/UAhih8xfrz+yrAhh1LWaP+eTpG+afo6/Ts0WBlwmpT8i9NIuFQGUPyy/DZAky4U/V1BogcBouD/OLF4cekifP0f1V2AK2Ko/bUwznU/MlT9PlyMZlg3UP34cgoHCWaE/Awys5PvRmT8l3uL3gZyaPyY6R+rvKZc/wwrNvwRxnT/hkqJxsYqyP04dHBabFag//Bcfakr0jj+reRxwomCMPx1AfYlYLK8/I7/OJax5tD/JKOVSfbqZP3iE4CLrfK8/C2LtfT6ZsT8bU5EF6Z6aP0RPnL5eAJM/RVBOvrXwpD8zJd4RPu6lP9T6jLI1Zak/gDrb8dfhiz+61VRz5rWZP28fRiGXJ58/v/y42CTBoz+UK2ypOnuhPyenWUNaP6k/uMPtUUkemD/f5ZOUOz6vP83H0dp/ZaY/lxmV30vXaT+OLOkqM+ShPwBwghVMeZ4/WlM9MmVyzj+AicIsC9HiP2cRCiYKVKc/u+ohrDJorD/Xbv8CNIWePz425isOxJY/l1TR2wJRlj8lZRBmV8W/P5jJXF0CGq4/QjzZSVpJvz85mR80gz6aP1maRDUdlbI/njyOWft/sz9uWKrWyd/SP4M80VH0x5M/l49KRSYntz+x3gMQyUOqP5J6ZYuSkZE/s+WStr+rkT+5juktbBOgP+FRhptMj5Q/7D6WcXDSsT8GPXwjHnbTP0/AuC4mxKY/AAAAAAAA+H+gUwsFWvmbP+2N5B8pdVa/aHaIzH7bYL8q/2u/MnN2P3ndMWKQgKg/QXdCjjOhsT8+dO1Vy+2mP4GDBUQB5K8/N8WWg8RmtD8FPJowB3maPyE8Fct1u84/ozJjLnSPtT+4pfqh3LGrPwyOWEZU/JQ/BIX+Dwzcqj9rRS+6e2ubP//20zYTkbA/Wj8xWkIQvz//WL0qC8OHP2HdHT8t1Jc/KI0M5vdgvD/2jC8T47WpPzkqJHig56M/VBuQgFhWuT/qQpF3QlC2PzKWje0aXag/iOyM3nQRrz/Z4hjs0nymP9a3l8Bd6Kc/TpvMWaHLtz9W4UHQf/uYP8S3jP31PLA/UMjtJ+LRmD+M9jbEQBzNPz80x2LMYJs/s2w0cq84uT/qTBuqyzauPyaVv+aZxYE/5FGWidzgdD8ZdsR59QWwP9LQwiARdKA//VlcaVJE2z+b2/PbSNaQP1ECmHf/C4g/vkFBdl4orz9ulCg5oHigP5lNewbV+oI/HMgXBxwE0D+D92HzNzeoP3j8ICNh1Hs/I6p6NhDspj/P93crjTu1P+u/1Iww/70/9FjhX4X3nD9ukL2UAJ6WP+CtnyCVfcM/MqZqMsNmvj+oI7NVVGyqP2U6U2NIjLo/VEkhCWP0zz80DAukqPfEP+OsoIHZXa0/PwOOqKeorT+WWchWgyi5P1OCVGLYtaQ/goj67pjbtD8AAAAAAAD4f0urBMNKRrk/L7rL+s1txz8v2Y5wkZHMP82FgssHy5A/2FHBkXnO7z9dwj0fXb+iP9YqRpL9e5s/OI8sjzNDrT909wOPLYygPyWyfDUKK68/t1ZBXAjgmj/EMtx5zD+pP1KGq0rXB4o/CyeP2OESuD+3rnQj8AybP1NbD0xuHaM/N1PNJnhruT9nwK944bKgP+lNdXbQH5s/D6CZzXMYoD/I/5LUrPayP0PRuRtJ2Zc/g/HbE76dlT9Ak1tUsxWXP2QH1fNLArI/a79h9ihpkT+aJ568+2KvPzZ6rRTi1oG/pDBp6n6q7z/ne+xDjU2qP/9TxTNlyaE/qlUiHbIjsj9Rdh5nT3KQP4164Ujkdac/q3m1EMGW0j8lK7ZKoZ+kP8AQHnjPL54/9cYT1zzqxz9Fd5DfkMCoPz6eeL2z64g/NMHUpbcUoT8OTvnWxaaZP8n2DqbGSKI/ynOvJH59bb8FXPu3ZX/FPzTRnp/FD5I/Y1jaJJfVub8vRscWgcKSP7+yiKmF2qo/SRLA6ay4Y7+Bjc+5Gt6wP9VMgbyiwpI/T0UFpF+Zmz+X07NClXajP1pXxMkjlI8/8SsxgKYrmz/yMatN1qirPzu4Fj+w45A/LO3cwA85rj8rpJojHme0P3uhISbU+pc/HfRtNqf9wT/E0klcwLmgP1swKPDRBaE//gcjkr2tsD+yvegstR6VP/Yk/6iGX8Q/VtUF5bFNqT/y8nU61R+fPzKyFPSo+qE/5BITIbvVoD8V9DRIYFixP7zJDCjO6ag/2e7OHxUTrD+UWUr/f9inP2ezajKabYU/HF/dUk/Wkz/6bZ8wVSaUP8XQZUOyPZs/PcH/5EuO1D8AWPU7TyqxP2sTl/jg8p4/cb2pGEPKsj85Y1l45RizP9u7AqDCAbg/0fgfHybZmT8W8zspyi+fPxOvl+KgJa8/AZxy/YcXpT+NOIlI6VOIPy0f4qGO6Ok/TQtQE551sT+pcF96TZWiP+Dg1JTc/7I/LGq2ZxmSBUBEcT1ip9SOPzfobJk2qpk/XmWiqUPcqj8pI4qCY9qWP2TBTeX/Aqs/jv4jWoKVnz/m993jPWaaP+0Xnxy4gq4/svz3ZPtTpT8XdX2McYK4P0rerAXzDqg/YFZvSynblT+fatV8RoCTPzoS0V0D8rA/wjRwxWq0jz+40y7MLYXBP9OIIv9tZbE/7b2lubbwN7+X4ZUbK9apP82MPvWJFcg/25jtPvNniL/CaWB0U2zEP7xprOBeMq4/MeaIs2cGoz+tzjaUAGnAP9yqT6dM7I+/MEgW/lrDlj8IGgNaUTahP5etqg9Fu8g/96xmjK/evj8FOHuFsf63P7oS3O8q0MU/wCT2Qc3Wwj9ycFFqJzupP4HpsUbVDsg/DCWpENpvdz9+24JS3u+PP47saqPRyZs/i7v/lz/hqz+qVjY15rWQP+rwCZqsEZ4//45s3uZtqz+utACLjDeHP4Pgbv3Sq6U/5Tvk4qmznD/5m0mosHCrP63am8S00q4/QJndsqaBrz/K91p5NhGzP4kiVCQYjcc/3B2HdOUbqD/ewbgukLChP6ga4UHx3I8/KdVDwhw8rz8KrH92Wvm8P3t7gadtXbQ/xJue47osuz8SsA585gyvP/uR9Gr1IZI/OOoA/I6sqz8g6FZR92SrP0QJb+qIcJY/xaZu6nUxnz9u1ANKHBp0vylPlGVuLZ4/exvZ7DlqlL9kVQhUxR2rP6Ra2tpGiq4/obA6BBfRoz+hamndIKgMQFENPyzXeJA/5U5BDAbOrD/E7T5QEBuJPxmousooX5o/JnV9NxmIsT8M2FNGuQWpPwAAAAAAAPB/26oUhcHCtj8ONuzG3mMQQPwf5NNiqKY/1EBBWQ0Epj/F9qgTOeKiP7EU6NSJvJA/woETq+B6wz/qRXlg7LeVP+AaEyHreZY/mnb1oBCoTb/2lNMgdkewPw9CWzelK6s/svf2i06joD+W526Bu9e1P1ZpfcixyaA/3KAF4zQdjz/1L98asIoFQNSBxIMrCLI/TaK+Y2tlqT9CNxtBOBSiP+DgBKthjsI/hD77CRLzpT+wOMF2bMnSP5/3/QZ9ydI/2k/AxfpXiT8/7qjqStKOPwdzvlYetJc/tMiW33yRpz/1NElz1r9jP8UdMyYVCqI/qRxNooNbrz/eB+uQNL6SPwig/hZI0M8/ZNRl4k6u0j9HgsSeYoGiP79KlW73M54/ug2B5CnLqT8IvM4MwqWqP7szWtTw9bg/TIlIPngWrD/my08rLsqTP5JwswSHQIQ/YKkX4jfBFEAk+CFsvdqhP+2uLiuhi6Y/QdRphC88uj/sBQnjOY6xP082rZQpeZQ/jeGm0gvarT/P8vgk9r+mP63bxDPFga0/VlP5WHNykj+0YzlMD8KoP5Wimilbg7w/OaiqRkwHtD++L67ixDafP/JG/LBWS5Q/UwBIcVgYwT8Mk4QYB16jP5DnaErtysw/wWl4iLpJlT//ESgUCuiqP1Nd+sFQfVW/xxnWTXEEoj+0u6LMvUqkP8ue7hELTsI/vl0z4TpCoj87X3GltPqpP2xdU70mN5w/i2jicA8Sqz+6zgmbtqDNP/jnMLvwvaE/rduSEvu+wj+M89NtUoyXv2tuCiCBq9E/eQ1bEfCrhT+6iHsBnBOSP3+wcYx167E/xc/a3me3nz/AZbVMEwWSP/IPxbYZ2Is/v5RHV+9VoT/57K8UJc7LP4gl/hgH7dM/Zfaq8GFBoz+UTvucgbufP/6ZwFcoNbY/rexDvr/Oqj9PMJnBuvisPzT8lii/O7I/RWB7OKncvj9OMd6jxJCnP34gtSrEpDC/lVL1uCEHsj+wsq+dGBKNP2pDGX5gtbw/pdQ2ipHLkT8rSUty/Ja2P+zaWY6EEbM/V46F0TL6qD/Zzm4vbNatPxAF6VrO+Yc/BLIez7ISpz+U0Dy1SHOhP6xX01m7F5I/foSWq/V4jz+SAOE9uYjZPwl35RBefKU/O0CFoupIpT95roCX3p+lP1j7D9o3XJI/gRZ4Dk80sT8edOsIMSqOP+HLND5/n5Q/W4JWIRDMxj9CDBG8hl2wP3EEDodELrU/pZudlYlc0D8uierdhG6fP+r2AqRcQIw/j/RjQbFTxz+DrhYcypGhP+wASZe3Q5U/PD/6mLHftD9sydBKm6+HP9eqv+MF56Q/cB1b7YwjoT/1RjZ58gfiP/BaBAktL58/F0cIqSeGqz82y+Z5xFbZP5RNXfRDfc8/QIM/RcJmpj+wrtGcKd6pP1rPgqQcBa4/Fh0d4LC5tT+YiUD4/BOCP771ORkrncc/sfoKXmYVvj9mOXxrBwGwP5OypQ7au5s/drqu7rXqpD+zLAHq/D+mP+u+HTe4Z6s/FTUpFvjqhj9iRAaAooefPwCQJgvYuZC/l+crnFo5qD9ubMrFNPCyPwPAY9pXeaA/WiQJogV8mD++ipWdViJXP5G5U7CXzZA/kwHeg9Qgwz/giURBQA+KP1x7+H6++qo/1inPArgGkz9OWKpWrGnQP7GQdqo5HpI/ZQN2iyQupz/RkwSxbPe1P/eoCeHjBqg/ScdXP2cvmT9Tqo/MbP+kPx42Mn1MeYk/ejLdVxsjsj8pb5HD1RuWP9PQJua6IKg/OvdQaVpOrD+01vf22xOCP7ultY0EU6A/0lN+76yYjz+67aI/a4SpPxv/dP+zWIg/3lcktNruvj8eJa82h5y+P1W9Ni4RYp8/x/cUP+AZoT81R2sc9JC3PwrhgctQ/ZI/HnkBPTYBsD8peyhdRPuwPxSNQZqjM4s/ILXzRrDfgT8w9TpNPCe/P+E3bNQlz4g/GAg8+u920D+XvkJfrX+7Pz74qoFkC5o/xRDWbHI7mj/jnvCOzwCbP5QKkNxWVZY/WQ23KR6csz9V6adNdHO1P5xS/UuIdLg/08/dvz6fkT/JbKXb0wuePx9mWRMHtqU/u+rc+tuZoz8xqPx0PeC8P/ty6MjSt5U/sDmfaP11qD9nl6rRWoi1P0tEqzbSia8/KIItZIP8zj/CANbBZtmgPzz8WJHYCMc/iykIsDQayj9E5coKSZm3P31kQBY/3Yw/2AEU5yYjyz/HPIUt0eGvPyww6fDQbao/Z0+LAA6DuD8X8jEweY2eP+YGoiO5bpM/mblvbc92iz8V8jFXNuXdP4qQyLtTQcA/kqJHLGsdlj9NTLBSyg6GP2mFG6JEhsg/7kwt6IpkoD+c4rPuG4ehPzY7kHKO8bc/Tu9wbn0luj+nFBbCCG6SP86hhJi+4qA/A68Cw0Rtnj8aJVuX7malP5kHTskVP60/MOcbvoCKo79kSbbyKB6sP2lF6inTR6g/K102pt4IjT+fGb7zsX2gP2C/p3dDyqQ/UWW/gn5hlD+gsd++whMZP2zDQbJKisQ/OOMV+KFEij/+JJaLREOqP2W/7S3iSNk/zuvKNND2kD+870Obq0GvPwz0Ms1+GLw/sp0tgoDOmz/FS1msbDarP5c1wMeqgqY/TZGzUUDAdb/mqB/IrRaAP9m174aAOp8/eiF3x90IxD96aqZNfECpP2biSKRPeb4/Uo4la/pngz/v0InBFxuwPwovzd5O4L0/m+pZAWsEqT8Of5oU4vChP3hZC8uOK5M/yU2yzrR/rj9K8+yo1Lm+P9CoHWu96bE/bHZZl/RKpj9ObRnek7PRP6uKt1w6DI0/3ypyb1oSuD+AxVz6j+nEP3abe57nR6Q/8/8FwRFAtD9Bc3pRZ2mhP+w+MFgD9qE/lHYWCoNmpj/IdbKCKmqlP78OxL1CAJk/0NyQYgqGcj9MBfCERsfOPyaP/BqPdUu/ad9pXMpwpj+bEHxrU0OUv9ayhZqwDZw/Pb8OpI0BpT8vVxgE+2RTP8Ezl2bl58Y/KFYhhvEYqT9YNGZHJluWP/8FrTAVA7W/uADUFLbCsT+f4Rw/3WWcP8F0Jb+IsOI/rbifgr6fgj/It+tTFdDHP20LbIX9eKc/Z/PvgpCHnT+Jz4FFyVmnP8pzMqcIarI/dpS7pFLZoz9x0StEvOx5P318UywGt5k/GG0ke3bSpD9mouccGa/HPzaHeufEuKo/oZLDKMM6sj/NoU48sjmVP/TD9g1448a/zujlamBXtT9nwYIowhrFP+vkjrsNDZI/BRwumcMTiD9GlpOk4NegP/PCO91yba4/eOH1QTsHpT8viDh/nCaFP/jYDfHzRY4/0adKu5Ulpj/eAmEgS3msP2zEGHFMdpo/HGLKynYrsj+CVHo1Jg3IP5ceCCt2trg/UqfUjnqrkD+oNlJujfawP8j+0n6nbpc/KzExE5IooD9v+H+hlxebPzTzVSNpEK8/sx1ix4LIrD9wW//x7Eq2v2uR4Y44s6g/OpYFKSBFdj/iQoGpChSoP81g3yyp6IU/Gkgp+nLKmz/2T1NGD2+wP0T8HN6MpJc/2hxvaukEmz/T/am+67OIP55Ed9xMF6o/VrJfIn1amj9J/+RPC0+NP9A0jBNqnaU/2dfPPg2YwD/vbPPcL2SuPxm4cSpQ86c/KR70dIzumD+XuM3a61zBP9CI94hoNsw/RG0kqZ/DlT8oFN4V+UPRP9A4B1AKDKA//grZwtshsD//L0SAWuu2P7Q+/FHjmsw/LH/B/v/Kkz+cUWoCbtiwPwokOuthEp0/iyGd2nTBhT9uYVwR2iapP4tbXYWEgZM/PkHeh/oYlz8AIyNJQM2aP/UYx+lH9bg/dGKWIswThD9I2TzQfaahP/FKbvRbtIo/c0XSVgo1rz9gJDK9L8mjPxkY9eSSb6s/AG5NxDTMqD9hEeGvtVTGP01f2EVR85c/PEDTNiRSoD8oKEWHgE2vPyb1pYNwhMs/ANGuqogfyT8tHkbzYUesP5VJ4qNBFLo/CuhjT+sEoz+6BDJa2cL0PwUr+zFMPKc/zUikpWsgkj9No5HmVhSXP2AObvYLscK/QkAbVwA2mz8Tm5PWPWOnP1z0Y4G5w6I/Anf10vlOtz/iUrSgJWCIP4I/D3e9dkE/v/aICCwanj9W6ve0Bh63P0e3FotUB4M/yF0/W6wM3z944x4qIl3TPw1zekvJ35E/m0UgiEanoD/5i4bqKciSP6QXp6y/cJM/mcYHdVgUqD9y80MuMe2WPwa2z3UwIwNAgDzOTb7xqD+3mUNhdmSeP113YmP475o/z+2sFqCNpz+y7PtTo+GlP6B0UWe75bw/fqiI6tAloz/sJ21mcbCdP1WbAFh1bJA/BSJLo29qtT/24J85xMC0P5EozJxOc6w/TSOV6l0klD//oxOV8jajP85JU83WJ60/Z0+lInZ+sT9S2Sygmb+KP6tXjpvtq5A/kYmoQgMUmD+9uHGT5O2mP0E+UjYHlJI/VbbYUsWszD/6+9MAPISxP8AuCnXs5rA/wxvNKkPlrz9dlTqZbLGcP1Il8pTJ2J4/f6+AiUyXhb/gsMsSMcyGP3Pu8sWQ1YU/NxZrXburwz98JeFTno6lP6Ka/D2EOJY/rpO8riWZvj/DszcDCqqKP6TR3xHU07g/xHxycZHkpT+uGoyc4SmMP27dsts/scE/pXthvcXClj/QtwVwKyiQP2FJi7xxRrw/mf0I9ZqYxT9cGUaFYOewP2sKk4XWmaY/1KxXbQD7vT/4/eA1fYOiP7E0Sv4C2kFAzh1dzTE9BkCDqc92rACJPwrrICQBNZI/XMEoQnLlmT8zA0ymiUCdP6BlLjEBXZk/VDeb4oBFwT/hJaUSvZ6/Pzk8fb/oj7A/YxTHf8L0oT+xtq9FYguzP6/bqH/83rI/OtBVIzhR4T8G2Vz7YoyYP5USDBINIpk/aAwUvjL1uT9tK8zypv2LP1dVk/bu1JY//Xh9h1Ammj9oQiYZBOqnP0YJ7Wg01rQ//l/0kcx8sD8iugrZO0uxPywAEf1gOMM/0JwZu+o2pj/Fydca50aVP2UiaJmdCKA/07qh7ImLnz+fhbjllxalP9kZKMZ0cqE/45eXBwWEtz8R7c9Bb3yDP6VUh40r1aQ/L8FyLK0grj95ZTXwJfGZP64Z2yq6QZs/WnBzP6s1gT9pKzXYg++JP2b6/xy0s7A/1/joKly/rz8l1AjvGtmwP0Q/03U5vag/Edxh6AGhhD86V96DXmeRP1HHHvPpoaU/vP+1yEoDjT+spPNb+N+zPyygJVOOx7g/cjzHjqDirD9bzid1sRizP8/uAY+WXpQ/iOQHeUfupz8c4aHPaF+SPyYw9E6jobg/Fhtv70DBmD9IilH26mu6P6dSDwebK/U/dHj+Nt5uqz9YOfW7djelP4U+uBitKLQ/RvkL3LmrvD/pkkapc/axP60r20eD0a0/NArD9jYknz9CmpON0GilP/vm8x/pMKc/3HWojsh4oz+2YswF2LnAP5wj3rPVTLM/shWc1tOMvT/QnWAIRk0+QP2sdL/m15E/pEMORvoTrT80paEZeu11P/uMDzJ3KI0/bnLrtXNilz8zVrM0AQqUPypvs5+wJaA/ZSTWq23suj9SzdmuoQ+fP9Fhi1l2waE/80c1DlLOsD/M+MusztSSPxyvpSuo1qU/jlL8Mawtlj9o7ayKWqW3PzcRGZYjKKQ/c0DoIFB/pT+iwtqKi3LwP/DbP3nF7pA/YrpES1V0pD/KZBMFIA2lP6lHTdVALrs/eCWAYRwglz/tN1JYLSGjPz7KKsQgiac/V2V0rvbhpz91qFM9Q/SyP17dyb/RP6Q/l6Q/rPZMyj9dPsA6nKm9P1lhNbkxX2c/0H/DQ56Slz+Cpsb/NCSnPxInC7jqR6U/XqkypGasqD85KQsC0X6lP+1FzqDoAJY/xbSehgb7kz/oGgOMhbOkP6f3dmA5FJM/UYYPbfBnoj+3bI0e6mqiP9wcjeFTVJc/Vl48sNhPrT8WsFaEguGbP+pnTB4S2ps/cKDz7xA3sD8MkAem9MC1P0zD7qISfqE/euCT8NV4rz/KhmyBw2SgP3uU/PZ+rqo/6TifrRRFmT+yVhj8ReK6P7GoUr+YmY8/JqA1DF4Xqz+Nwmrve4zDP60h0ON4CtY/05ghmAw/sz+znSRxzXS1P52cpuUsG50/qP1zt08Qtj84t9kBy1iYP8YSk4zZ9ZE/bD2V46lppD+NIZqfwhm/P/BVpGoPgo0/JnV2cv96jj/52ITq1LW4P8j16x4WmaM/iAtVMHvs0D+hags29bKCP05b/lF3JWBAzATJ73Gz3j95iinp05CeP6umnaHAibo/+YERkRmasD/GnX9gP8K7P6qaQHgBwLI/tzzI6IP+nT85+azRJHCaP86zaityXoS/GIrcyJwjmT9lhprmd+ulPx3fm9SW35I/4kDjs2hfqD83pTOn76m3P4CRTRRxo58/ocaTWGVPqD9CL1Wo8/WWPzqj6pDdAYQ/SyOpWc68pD8SbQVYy7CVP8/I14PSdpk/VRmMzF/NsD9ySe7KxgayP6/thix5MaM/01QQVmsntj+AmtU4STOoP9A9ItujU5s/h66bTWkw1z9U7GngTCSZP6jRVQyKuZY/i2lzAu9Pfz83nfoVUVixP9CIdeYgVZE/35lWwhKJqD8WXbL7592vP3uwkx+TP5Q/iSxO7uaZmT9IM6tGJEGzP5OAkHD9oaA/9U5o+PzDlD9PoaFqOSuVP/R5VkoFeag/kbE6B13rnz8tjdlpCF+3P2ZahpS6x7k/SZ/w/st8lT+fcHpVoqPNP5EfBWcQ+J0/8uwAWr/HoD9spUmdGGu8P2VjqMGGqK0/HsF3SNJG4z9eVXOqJ8aLP262vvOJuqs/ThRaXIA5yz+NP6YQlEy9PyQ2nF/5u6k/EBctzhv9sj8lZJkiXZeyP5ggA9aQrm0/MZrvDLQArz9pg3PGd020P7hFXt9vMJw/+vph1UIxoj94gzYOX3aeP7XqyVtFM4Q/0z+3nSk4pD/hfs+ocO+sPyozUXsd6Ks/QjycUqPtmT9gmRNNKX33P32udrTGv4g/dQaM1JRyxD8DSfoIKamjP0NPFZBLJrM/8Wrc48nrkD+TchdXBaySP3AYlVcDapU/2Fm/qHnenj/cEBo8ogGQP8BkInG+AoU/5X73ZjRMlz+DILyMNMK6P1n9Y45of5c/2yeXSQpGkj80H1TjC+uWP42Kiham8cE/DXqOIi4OfD/PChGpLEiVPygLEK1saaE/pWpiTfcEpz+5lmHKMpCbP+g4xLLkiME/T8VMqss9qD+syTLOThO2PxLnJabqUKQ/jAU/cz8fnz8Oqc/C8dacv/kUE9LI3ro/4CA8XNYqpT8m2ESQxbmJP4OTT3QMrbI/W5wEL035AEDWrycgYXzKP5RxtZ+JFaI/AJWKvRU/cT8V3TBYH6ijP+7TS5D2Y5w/JGFfrr61sD9dW2UvqVaMP6C0uXljZ58/2AQlX3Y3kj/ZaBvL2ISmP0tYw/g5yKA/67t9gpKCsz80/0FDSnazP9qbXkaFvK0/ZlmigDSEiT9uzwPexsqZPx/Jt08XlaM/pYVhzuJurD8UneHcyKukP/hu+c2ELu0/2F6mhsKX0z9MGio9I+qoP5QvAUieoN0/Zq3VQMMz7D8M9U39qGCIPzZ26DR0Xoo/pzS0wq/d1z8/JvWVVHmjP44cZ7F4UbQ/Tqg6v1Ffnj/rXMl3R6MGPwrLCpXkBZE/A+h8tewcWz8Dqy+mAievP04Z0o5Qdac/LY+RK96Xoj+a5tuFs1JNQND+bFPiIKM/kg/x7UTqgz/Z4S/2e9uoPxo6ENzsya4/LMBk1nWUrD92ZDbNtryyP6+3SxJpX3o/GhYsFnk/oD9ArLBHmcyJP7DTgscgWJE/u15teajFuD83kmVOKoSwP51AvvJMbbg/cMp8u2Vn2z+g/cTntAVzP/H1Xa0NuaA/PegU8QubpD9j0qm/HF6kP7uF0Ky8xK4//I5yuyJDpD/Siaahb0XKP7y2PEFayKk/YHLtg7rruz8WMx9oRp2fP82GOdSpp5s/5cA+C/+3mD8DLbJKVs6TP6besKJDVJo/CNgwp/mUoj+v8bnX4it6P9+BqSbYza4/ITxFqlVurT/4Aw96BlqIP0LvYRoBjcs/fz+VWr7kpj/QHC9bKNaWP80tPrPIV6c/9F9vBRlsxj+rzCGvsECYP+ZDRS5aaMg/WNmeAWWNsT+UP+eqJFmcPwX5vDxraKM/M/NeR9Oooz/Hi313MNCyP0FGbwofrKs/TtJU2yMPmL8bUcrpnN+iP6isE4wx0pU/2LxyDdUn1D/MDeumLCWeP5e00KPa/qw/xD1IrBbnkT/1NM2MKomgP5irePtDKLU/+/uDCuhioD+zJ77EtNOTPyNCj5eXH5o/4qJTdLU4qz909V1arlK3P63QjngQQZQ/s/MtphNVlz/B0r3S9uCIP78UoIH//oQ/lz2BaPok4T9jl9ZOk4KzP7lhYukgSpM/7yvnpcOZoj+BI6zvCemzPwGm1Ln4PaU/GfBGD52eqD/4kt4cC+iWP7vZv/md0rs/e6EJ1YHyc0BuMO3OFtycP2q64qQoGrA/tYGxNlgkpD+V2Te8FDeWPwNX9SBCv5Q/j7VOuTdakj/u6BwKJhuuP+mUxGEDvus/oRd2UWUppj9VG11w7w7NP5OfmAzAx6E/1iIWtMD3tT8kyCkxrxSpPx4WjZuzfsA/qvEI1LiTlj9pLzNpm7KsP08+G3jsNKk/RwltH5vgnT/S5J6Oqi11P67Pa4WuSL4/N/XeQo6ooj9wWE3Ca7qNP7k0OHzaH6U/irzRcjXarj8HGLZOKMGTP7HUqU5vB6M/GGjYX4d4tT9g5tjRVniNP/WPPWx1NpQ/6nhKUWuErD+hmN4vSxeRPwDYaj0lhLK/hkcWhHlSoj+UrwutpdWTP88agvJrkJY/7c3Eev1ymz9sFDLKSPWlP9pJzsD9sZg/TIGvuyZ5qD+AafwLQIeWPxk5QkmFwKs/db5NeiizpT8Cfwnll/SLPxrZ9tjB7Js/L5ylSPOZtT8cFE4yaXKyP/gp9OWtBKs/4b1fvTUCpj/XiqTpEuWwP3CcZjAm27I/dalKks05nT9jFKkkXTuiP2t1oHFKDak/UKOiQOjaqD9OLs+IgQPSPw0uJnHrk54/VYiYhIIwbz/3ozgbe86yP0dnVatMLqc/RLA/bT+fqj9xK0m0jYTIP/15Q+4j3Jg/geDxu4cHkD/QjA4TgImWP6nZQdzGAtQ/lQgWhHKY4T9r9OQA5Ba2P9FN5ctK2p4/FMsLFHvLlT/IMeMZn5i2P3NV3h9LEZc/hnu6D6wFhT9SwSMKaqmvP08tzF+Q5ZI/dXAZAS6M0D+idsUQ6HWBP3OnoLuEZ6I/Zcog4Lzooj/wCXnzDNyxPyqavGTajZk/9w6TlM2BiT9JSAwsVqKZP5KLG1c6qL0/0i/wcB/kcb9lBduKqmy+P0vf47rXKqA/Zc+pGegfjD/ZYwEVtDLFP6ulsK2IiIs/zUyxpYQypz8ja0OBizKFP8i+uGlC3FA/uhFUqWj1aD92Wq3Jfcl1P37xhdkaErE/x3ftZbKvdj978kx9PmJEP9HCk9oF2q4/FBpr8P6PoD8FbDzA4/2NPy+3q0W0ALs/hXU9Nfpmmj/cIJ3xcqi/PysZ/cPsf5g/P7C6AVCRyj8BQEkK7RrAP/hDrRi1PbE//RqMpCl0vj8Hpin8FhqvP4bsZFICjp8/GzbWShjozD/b7Qto0qC9P2paB/1Gjak/iseU9iJLjD+itKEesZqoPwzZdSMCnZ0/csY3/jraoD97QYGqNeSzP/iL+F1JurE/joMEjtbtiz85GjajMfCUPw==\",\"dtype\":\"float64\",\"shape\":[1397]},\"index\":[0,1,2,3,4,5,6,7,8,9,10,11,12,13,14,15,16,17,18,19,20,21,22,23,24,25,26,27,28,29,30,31,32,33,34,35,36,37,38,39,40,41,42,43,44,45,46,47,48,49,50,51,52,53,54,55,56,57,58,59,60,61,62,63,64,65,66,67,68,69,70,71,72,73,74,75,76,77,78,79,80,81,82,83,84,85,86,87,88,89,90,91,92,93,94,95,96,97,98,99,100,101,102,103,104,105,106,107,108,109,110,111,112,113,114,115,116,117,118,119,120,121,122,123,124,125,126,127,128,129,130,131,132,133,134,135,136,137,138,139,140,141,142,143,144,145,146,147,148,149,150,151,152,153,154,155,156,157,158,159,160,161,162,163,164,165,166,167,168,169,170,171,172,173,174,175,176,177,178,179,180,181,182,183,184,185,186,187,188,189,190,191,192,193,194,195,196,197,198,199,200,201,202,203,204,205,206,207,208,209,210,211,212,213,214,215,216,217,218,219,220,221,222,223,224,225,226,227,228,229,230,231,232,233,234,235,236,237,238,239,240,241,242,243,244,245,246,247,248,249,250,251,252,253,254,255,256,257,258,259,260,261,262,263,264,265,266,267,268,269,270,271,272,273,274,275,276,277,278,279,280,281,282,283,284,285,286,287,288,289,290,291,292,293,294,295,296,297,298,299,300,301,302,303,304,305,306,307,308,309,310,311,312,313,314,315,316,317,318,319,320,321,322,323,324,325,326,327,328,329,330,331,332,333,334,335,336,337,338,339,340,341,342,343,344,345,346,347,348,349,350,351,352,353,354,355,356,357,358,359,360,361,362,363,364,365,366,367,368,369,370,371,372,373,374,375,376,377,378,379,380,381,382,383,384,385,386,387,388,389,390,391,392,393,394,395,396,397,398,399,400,401,402,403,404,405,406,407,408,409,410,411,412,413,414,415,416,417,418,419,420,421,422,423,424,425,426,427,428,429,430,431,432,433,434,435,436,437,438,439,440,441,442,443,444,445,446,447,448,449,450,451,452,453,454,455,456,457,458,459,460,461,462,463,464,465,466,467,468,469,470,471,472,473,474,475,476,477,478,479,480,481,482,483,484,485,486,487,488,489,490,491,492,493,494,495,496,497,498,499,500,501,502,503,504,505,506,507,508,509,510,511,512,513,514,515,516,517,518,519,520,521,522,523,524,525,526,527,528,529,530,531,532,533,534,535,536,537,538,539,540,541,542,543,544,545,546,547,548,549,550,551,552,553,554,555,556,557,558,559,560,561,562,563,564,565,566,567,568,569,570,571,572,573,574,575,576,577,578,579,580,581,582,583,584,585,586,587,588,589,590,591,592,593,594,595,596,597,598,599,600,601,602,603,604,605,606,607,608,609,610,611,612,613,614,615,616,617,618,619,620,621,622,623,624,625,626,627,628,629,630,631,632,633,634,635,636,637,638,639,640,641,642,643,644,645,646,647,648,649,650,651,652,653,654,655,656,657,658,659,660,661,662,663,664,665,666,667,668,669,670,671,672,673,674,675,676,677,678,679,680,681,682,683,684,685,686,687,688,689,690,691,692,693,694,695,696,697,698,699,700,701,702,703,704,705,706,707,708,709,710,711,712,713,714,715,716,717,718,719,720,721,722,723,724,725,726,727,728,729,730,731,732,733,734,735,736,737,738,739,740,741,742,743,744,745,746,747,748,749,750,751,752,753,754,755,756,757,758,759,760,761,762,763,764,765,766,767,768,769,770,771,772,773,774,775,776,777,778,779,780,781,782,783,784,785,786,787,788,789,790,791,792,793,794,795,796,797,798,799,800,801,802,803,804,805,806,807,808,809,810,811,812,813,814,815,816,817,818,819,820,821,822,823,824,825,826,827,828,829,830,831,832,833,834,835,836,837,838,839,840,841,842,843,844,845,846,847,848,849,850,851,852,853,854,855,856,857,858,859,860,861,862,863,864,865,866,867,868,869,870,871,872,873,874,875,876,877,878,879,880,881,882,883,884,885,886,887,888,889,890,891,892,893,894,895,896,897,898,899,900,901,902,903,904,905,906,907,908,909,910,911,912,913,914,915,916,917,918,919,920,921,922,923,924,925,926,927,928,929,930,931,932,933,934,935,936,937,938,939,940,941,942,943,944,945,946,947,948,949,950,951,952,953,954,955,956,957,958,959,960,961,962,963,964,965,966,967,968,969,970,971,972,973,974,975,976,977,978,979,980,981,982,983,984,985,986,987,988,989,990,991,992,993,994,995,996,997,998,999,1000,1001,1002,1003,1004,1005,1006,1007,1008,1009,1010,1011,1012,1013,1014,1015,1016,1017,1018,1019,1020,1021,1022,1023,1024,1025,1026,1027,1028,1029,1030,1031,1032,1033,1034,1035,1036,1037,1038,1039,1040,1041,1042,1043,1044,1045,1046,1047,1048,1049,1050,1051,1052,1053,1054,1055,1056,1057,1058,1059,1060,1061,1062,1063,1064,1065,1066,1067,1068,1069,1070,1071,1072,1073,1074,1075,1076,1077,1078,1079,1080,1081,1082,1083,1084,1085,1086,1087,1088,1089,1090,1091,1092,1093,1094,1095,1096,1097,1098,1099,1100,1101,1102,1103,1104,1105,1106,1107,1108,1109,1110,1111,1112,1113,1114,1115,1116,1117,1118,1119,1120,1121,1122,1123,1124,1125,1126,1127,1128,1129,1130,1131,1132,1133,1134,1135,1136,1137,1138,1139,1140,1141,1142,1143,1144,1145,1146,1147,1148,1149,1150,1151,1152,1153,1154,1155,1156,1157,1158,1159,1160,1161,1162,1163,1164,1165,1166,1167,1168,1169,1170,1171,1172,1173,1174,1175,1176,1177,1178,1179,1180,1181,1182,1183,1184,1185,1186,1187,1188,1189,1190,1191,1192,1193,1194,1195,1196,1197,1198,1199,1200,1201,1202,1203,1204,1205,1206,1207,1208,1209,1210,1211,1212,1213,1214,1215,1216,1217,1218,1219,1220,1221,1222,1223,1224,1225,1226,1227,1228,1229,1230,1231,1232,1233,1234,1235,1236,1237,1238,1239,1240,1241,1242,1243,1244,1245,1246,1247,1248,1249,1250,1251,1252,1253,1254,1255,1256,1257,1258,1259,1260,1261,1262,1263,1264,1265,1266,1267,1268,1269,1270,1271,1272,1273,1274,1275,1276,1277,1278,1279,1280,1281,1282,1283,1284,1285,1286,1287,1288,1289,1290,1291,1292,1293,1294,1295,1296,1297,1298,1299,1300,1301,1302,1303,1304,1305,1306,1307,1308,1309,1310,1311,1312,1313,1314,1315,1316,1317,1318,1319,1320,1321,1322,1323,1324,1325,1326,1327,1328,1329,1330,1331,1332,1333,1334,1335,1336,1337,1338,1339,1340,1341,1342,1343,1344,1345,1346,1347,1348,1349,1350,1351,1352,1353,1354,1355,1356,1357,1358,1359,1360,1361,1362,1363,1364,1365,1366,1367,1368,1369,1370,1371,1372,1373,1374,1375,1376,1377,1378,1379,1380,1381,1382,1383,1384,1385,1386,1387,1388,1389,1390,1391,1392,1393,1394,1395,1396],\"name\":[\"0x\",\"10M Token\",\"1337\",\"2GIVE\",\"300 Token\",\"42-coin\",\"808Coin\",\"8Bit\",\"9COIN\",\"AI Doctor\",\"ALIS\",\"ALQO\",\"ANRYZE\",\"APX\",\"ARbit\",\"ATBCoin\",\"ATLANT\",\"ATMChain\",\"ATMCoin\",\"Abjcoin\",\"Abncoin\",\"Accelerator Network\",\"Ace\",\"Aces\",\"Achain\",\"Acoin\",\"AdCoin\",\"AdEx\",\"AdShares\",\"Adelphoi\",\"Advanced Internet Blocks\",\"Adzcoin\",\"Aeon\",\"Aerium\",\"Aeron\",\"Aeternity\",\"Agoras Tokens\",\"Agrello\",\"AgrolifeCoin\",\"Aidos Kuneen\",\"Aion\",\"AirSwap\",\"AirToken\",\"Akuya Coin\",\"AllSafe\",\"Allion\",\"AlpaCoin\",\"Alphabit\",\"AltCommunity Coin\",\"Altcoin\",\"AmberCoin\",\"Ambrosus\",\"Ammo Reloaded\",\"AmsterdamCoin\",\"AnarchistsPrime\",\"Animecoin\",\"Anoncoin\",\"AntiBitcoin\",\"Antilitecoin\",\"Antimatter\",\"AppCoins\",\"AppleCoin\",\"AquariusCoin\",\"Aragon\",\"Arcade Token\",\"ArcticCoin\",\"Ardor\",\"Argentum\",\"Argus\",\"Aricoin\",\"Ark\",\"ArtByte\",\"Artex Coin\",\"Asch\",\"Aseancoin\",\"AsiaCoin\",\"Asiadigicoin\",\"Astro\",\"Atmos\",\"Atomic Coin\",\"AudioCoin\",\"Augur\",\"Auroracoin\",\"AurumCoin\",\"Authorship\",\"Autonio\",\"AvatarCoin\",\"Aventus\",\"Avoncoin\",\"Axiom\",\"B2B\",\"B3Coin\",\"BCAP\",\"BERNcash\",\"BITFID\",\"BLOCKv\",\"BLUE\",\"BOAT\",\"BOScoin\",\"BROTHER\",\"BT1 [CST]\",\"BT2 [CST]\",\"BTCMoon\",\"BTCtalkcoin\",\"BTSR\",\"Bancor\",\"Bankcoin\",\"Basic Attention Token\",\"Bastonet\",\"BatCoin\",\"Bata\",\"Bean Cash\",\"Beatcoin\",\"BeaverCoin\",\"Bela\",\"BenjiRolls\",\"BestChain\",\"BetaCoin\",\"BiblePay\",\"Bibox Token\",\"BigONE Token\",\"BigUp\",\"BillaryCoin\",\"Billionaire Token\",\"Binance Coin\",\"BioBar\",\"BiosCrypto\",\"BipCoin\",\"Birds\",\"Bismuth\",\"Bit20\",\"BitAlphaCoin\",\"BitAsean\",\"BitBar\",\"BitBay\",\"BitBoost\",\"BitClave\",\"BitCoal\",\"BitConnect\",\"BitDice\",\"BitQuark\",\"BitSend\",\"BitSerial\",\"BitShares\",\"BitSoar\",\"BitTokens\",\"Bitair\",\"Bitbase\",\"Bitcedi\",\"Bitcloud\",\"Bitcoin\",\"Bitcoin 21\",\"Bitcoin Cash\",\"Bitcoin Diamond\",\"Bitcoin Fast\",\"Bitcoin Gold\",\"Bitcoin Planet\",\"Bitcoin Plus\",\"Bitcoin Red\",\"Bitcoin Scrypt\",\"Bitcoin Silver\",\"Bitcoin Unlimited (Futures)\",\"Bitcoin2x\",\"BitcoinDark\",\"BitcoinX [Futures]\",\"BitcoinZ\",\"Bitcore\",\"Bitcrystals\",\"Bitcurrency\",\"Bitdeal\",\"Bitgem\",\"Bitmark\",\"Bitok\",\"Bitpark Coin\",\"Bitradio\",\"Bitstar\",\"Bitswift\",\"Bitvolt\",\"Bitz\",\"Bitzeny\",\"BlackCoin\",\"Blackmoon Crypto\",\"Blackstar\",\"BlakeStar\",\"Blakecoin\",\"BlazeCoin\",\"BlazerCoin\",\"Blitzcash\",\"BlockCAT\",\"BlockCDN\",\"BlockMason Credit Protocol\",\"BlockPay\",\"Blockchain Index\",\"Blocknet\",\"Blockpool\",\"Blocktix\",\"BlueCoin\",\"BnrtxCoin\",\"Bodhi\",\"Bolenum\",\"Bolivarcoin\",\"Bonpay\",\"Boolberry\",\"BoostCoin\",\"Bounty0x\",\"Bowhead\",\"BowsCoin\",\"Braincoin\",\"Bread\",\"Breakout\",\"Breakout Stake\",\"BriaCoin\",\"BridgeCoin\",\"BritCoin\",\"Bubble\",\"Bulwark\",\"BumbaCoin\",\"BunnyCoin\",\"Burst\",\"BurstOcean\",\"BuzzCoin\",\"Byteball Bytes\",\"Bytecent\",\"Bytecoin\",\"Bytom\",\"C-Bit\",\"CBD Crystals\",\"CCMiner\",\"CFun\",\"CHIPS\",\"COMSA [ETH]\",\"COMSA [XEM]\",\"CORION\",\"COSS\",\"CRTCoin\",\"CVCoin\",\"Cabbage\",\"CacheCoin\",\"Californium\",\"CaliphCoin\",\"CampusCoin\",\"CanYaCoin\",\"Canada eCoin\",\"CannaCoin\",\"CannabisCoin\",\"Cannation\",\"Cappasity\",\"Capricoin\",\"CarTaxi Token\",\"Carboncoin\",\"Cardano\",\"Cash Poker Pro\",\"Cashcoin\",\"Cashme\",\"Casino\",\"CasinoCoin\",\"Catcoin\",\"Ccore\",\"Centra\",\"Centurion\",\"ChainCoin\",\"ChainLink\",\"ChanCoin\",\"Change\",\"Cheapcoin\",\"ChessCoin\",\"Chronobank\",\"Chronologic\",\"Chronos\",\"Cindicator\",\"Circuits of Value\",\"Civic\",\"Clams\",\"ClearPoll\",\"CloakCoin\",\"ClubCoin\",\"CoExistCoin\",\"Cobinhood\",\"Cofound.it\",\"Coimatic 2.0\",\"Coimatic 3.0\",\"Coin(O)\",\"Coin2.1\",\"CoinDash\",\"Coinlancer\",\"Coinonat\",\"CoinonatX\",\"ColossusCoinXT\",\"Colossuscoin V2\",\"Comet\",\"Compcoin\",\"CompuCoin\",\"Concoin\",\"Condensate\",\"Confido\",\"Content and AD Network\",\"Copico\",\"Corethum\",\"CorgiCoin\",\"Counterparty\",\"Coupecoin\",\"Crave\",\"Cream\",\"Creatio\",\"Creativecoin\",\"Credence Coin\",\"Creditbit\",\"Credo\",\"CrevaCoin\",\"CrowdCoin\",\"Crown\",\"CryptCoin\",\"Crypto\",\"Crypto Bullion\",\"CryptoCarbon\",\"CryptoEscudo\",\"CryptoForecast\",\"CryptoInsight\",\"CryptoPing\",\"CryptoWorldX Token\",\"Cryptojacks\",\"Cryptonex\",\"Cryptonite\",\"Cryptopay\",\"CryptopiaFeeShares\",\"Crystal Clear \",\"Cthulhu Offerings\",\"Cubits\",\"Curecoin\",\"CybCSec\",\"CyberCoin\",\"CyberMiles\",\"Cycling Coin\",\"Cyder\",\"Cypher\",\"DAO.Casino\",\"DAPPSTER\",\"DCORP\",\"DECENT\",\"DEW\",\"DFSCoin\",\"DIBCOIN\",\"DIMCOIN\",\"DNotes\",\"DROXNE\",\"Dai\",\"Dalecoin\",\"Darcrus\",\"DarkLisk\",\"Darsek\",\"Dash\",\"Dashcoin\",\"Dashs\",\"Databits\",\"Datum\",\"DavorCoin\",\"DaxxCoin\",\"Debitcoin\",\"DecentBet\",\"Decentraland\",\"Decision Token\",\"Decred\",\"DeepBrain Chain\",\"DeepOnion\",\"Delphy\",\"DeltaCredits\",\"Denarius\",\"Dent\",\"Dentacoin\",\"Desire\",\"Destiny\",\"DeusCoin\",\"Deutsche eMark\",\"Diamond\",\"DigiByte\",\"DigiCube\",\"DigiPulse\",\"Digital Bullion Gold\",\"Digital Credits\",\"Digital Money Bits\",\"Digital Rupees\",\"DigitalDevelopersFund\",\"DigitalNote\",\"DigitalPrice\",\"Digitalcoin\",\"DigixDAO\",\"Dimecoin\",\"DimonCoin\",\"Dinastycoin\",\"Divi\",\"Dix Asset\",\"Dogecoin\",\"Dollar Online\",\"Dollarcoin\",\"DomRaider\",\"Donationcoin\",\"DopeCoin\",\"Dotcoin\",\"Dovu\",\"DraftCoin\",\"Dragonchain\",\"Dreamcoin\",\"DubaiCoin\",\"Dubstep\",\"Dutch Coin\",\"Dynamic\",\"Dynamic Trading Rights\",\"DynamicCoin\",\"E-Dinar Coin\",\"E-coin\",\"E4ROW\",\"EA Coin\",\"ECC\",\"EDRCoin\",\"EGO\",\"ELTCOIN\",\"ENTCash\",\"EOS\",\"EOT Token\",\"ERC20\",\"ETHGAS\",\"ETHLend\",\"EXRNchain\",\"EagleCoin\",\"EarthCoin\",\"Ebittree Coin\",\"EcoCoin\",\"Ecobit\",\"Edgeless\",\"EggCoin\",\"Eidoo\",\"Einsteinium\",\"Elacoin\",\"Elastic\",\"Elcoin\",\"Electroneum\",\"Elementrem\",\"Elixir\",\"Ellaism\",\"Elysium\",\"EmberCoin\",\"Embers\",\"Emerald Crypto\",\"Emercoin\",\"Emphy\",\"EncrypGen\",\"EncryptoTel [ETH]\",\"EncryptoTel [WAVES]\",\"Energo\",\"Energycoin\",\"Enigma\",\"Enjin Coin\",\"EquiTrader\",\"Ergo\",\"Eroscoin\",\"Eryllium\",\"Escroco\",\"Espers\",\"Eternity\",\"EthBet\",\"Ethbits\",\"Ethereum\",\"Ethereum Cash\",\"Ethereum Classic\",\"Ethereum Dark\",\"Ethereum Gold\",\"Ethereum Lite\",\"Ethereum Movie Venture\",\"Etheriya\",\"Etheroll\",\"Etherparty\",\"Ethos\",\"Eurocoin\",\"EuropeCoin\",\"EventChain\",\"EverGreenCoin\",\"Everex\",\"Everus\",\"Evil Coin\",\"Evotion\",\"Exchange Union\",\"ExchangeN\",\"ExclusiveCoin\",\"Expanse\",\"Experience Points\",\"FAPcoin\",\"FIMKrypto\",\"FLiK\",\"FORCE\",\"FUNCoin\",\"Faceblock\",\"Facecoin\",\"Factom\",\"FairCoin\",\"Fantomcoin\",\"Farad\",\"Fargocoin\",\"Fastcoin\",\"Fazzcoin\",\"Feathercoin\",\"FedoraCoin\",\"FidentiaX\",\"Filecoin [Futures]\",\"FinCoin\",\"FireFlyCoin\",\"Firecoin\",\"First Bitcoin\",\"First Bitcoin Capital\",\"FirstBlood\",\"FirstCoin\",\"FlappyCoin\",\"Flash\",\"FlavorCoin\",\"Flaxscript\",\"Flixxo\",\"FlorinCoin\",\"FlutterCoin\",\"Flycoin\",\"FlypMe\",\"FoldingCoin\",\"Fonziecoin\",\"Footy Cash\",\"Francs\",\"Franko\",\"FrankyWillCoin\",\"Frazcoin\",\"Freicoin\",\"FuckToken\",\"FuelCoin\",\"FujiCoin\",\"Fujinto\",\"FunFair\",\"FundYourselfNow\",\"FutCoin\",\"FuturXe\",\"FuzzBalls\",\"G3N\",\"GAIA\",\"GAY Money\",\"GBCGoldCoin\",\"GCoin\",\"GOLD Reward Token\",\"GPU Coin\",\"GXShares\",\"Gambit\",\"Game\",\"GameBet Coin\",\"GameChain System\",\"GameCredits\",\"GameLeagueCoin\",\"GameUnits\",\"GanjaCoin\",\"Gapcoin\",\"Gas\",\"GeertCoin\",\"Genaro Network\",\"Genesis Vision\",\"GeoCoin\",\"GeyserCoin\",\"Gifto\",\"Giga Watt Token\",\"Gimli\",\"GlassCoin\",\"Global Business Revolution\",\"Global Currency Reserve\",\"Global Tour Coin\",\"GlobalBoost-Y\",\"GlobalCoin\",\"GlobalToken\",\"Gnosis\",\"GoByte\",\"Gold Pressed Latinum\",\"GoldBlocks\",\"GoldCoin\",\"GoldMaxCoin\",\"GoldPieces\",\"GoldReserve\",\"GoldUnionCoin\",\"Golem\",\"Golfcoin\",\"Golos\",\"Golos Gold\",\"Goodomy\",\"Granite\",\"Grantcoin\",\"Greencoin\",\"Grid+\",\"GridCoin\",\"Grimcoin\",\"Groestlcoin\",\"Growers International\",\"GuccioneCoin\",\"Gulden\",\"Guncoin\",\"HEAT\",\"HEROcoin\",\"HODL Bucks\",\"HOdlcoin\",\"HTML5COIN\",\"HTMLCOIN\",\"Halcyon\",\"Halloween Coin\",\"Happy Creator Coin\",\"Happycoin\",\"HarmonyCoin\",\"Hawala.Today\",\"HealthyWormCoin\",\"Hedge\",\"Helleniccoin\",\"HelloGold\",\"HempCoin\",\"Hexx\",\"HiCoin\",\"High Gain\",\"High Performance Blockchain\",\"High Voltage\",\"HitCoin\",\"Hive\",\"HoboNickels\",\"HollyWoodCoin\",\"HomeBlockCoin\",\"Honey\",\"Hshare\",\"Hubii Network\",\"Humaniq\",\"Huncoin\",\"HunterCoin\",\"Hush\",\"Hyper\",\"Hyper Pay\",\"Hyper TV\",\"HyperStake\",\"I/O Coin\",\"I0Coin\",\"ICO OpenLedger\",\"ICOBID\",\"ICON\",\"ICOS\",\"ION\",\"IOTA\",\"Iconic\",\"Iconomi\",\"Ignis\",\"Impact\",\"ImpulseCoin\",\"InPay\",\"IncaKoin\",\"Incent\",\"Independent Money System\",\"India Coin\",\"Indorse Token\",\"InfChain\",\"Infinitecoin\",\"Infinity Economics\",\"Infinity Pay\",\"InflationCoin\",\"Influxcoin\",\"Ink\",\"Innova\",\"InsaneCoin\",\"Intelligent Trading Tech\",\"IntenseCoin\",\"International Diamond\",\"Internet of People\",\"Internet of Things\",\"Internxt\",\"Interstellar Holdings\",\"Interzone\",\"InvestFeed\",\"InvisibleCoin\",\"IoT Chain\",\"IrishCoin\",\"IslaCoin\",\"Ixcoin\",\"Janus\",\"JavaScript Token\",\"Jetcoin\",\"Jewels\",\"Jin Coin\",\"Jinn\",\"JobsCoin\",\"Joincoin\",\"Joulecoin\",\"Karbo\",\"Karmacoin\",\"KashhCoin\",\"Kayicoin\",\"KekCoin\",\"KickCoin\",\"KiloCoin\",\"Kin\",\"KingN Coin\",\"Kittehcoin\",\"Kobocoin\",\"Kolion\",\"Komodo\",\"Kore\",\"Kronecoin\",\"KuCoin Shares\",\"Kubera Coin\",\"Kurrent\",\"KushCoin\",\"Kyber Network\",\"LAToken\",\"LAthaan\",\"LBRY Credits\",\"LEOcoin\",\"LIFE\",\"LLToken\",\"LUXCoin\",\"Lamden\",\"Lampix\",\"LanaCoin\",\"LandCoin\",\"Lazaruscoin\",\"LePen\",\"LeaCoin\",\"Leek Coin\",\"Legends Room\",\"LetItRide\",\"LeviarCoin\",\"LevoPlus\",\"Lex4All\",\"Lightning Bitcoin [Futures]\",\"Linda\",\"Link Platform\",\"LinkedCoin\",\"Linx\",\"Lisk\",\"LiteBar\",\"LiteBitcoin\",\"LiteCoin Gold\",\"LiteCoin Ultra\",\"LiteDoge\",\"Litecoin\",\"Litecoin Plus\",\"Litecred\",\"LoMoCoin\",\"LockChain\",\"Loopring\",\"LottoCoin\",\"LuckChain\",\"Luna Coin\",\"Lunyr\",\"Lykke\",\"MACRON\",\"MCAP\",\"MMXVI\",\"MSD\",\"MTMGaming\",\"Machinecoin\",\"Macro\",\"Madcoin\",\"Maecenas\",\"Magi\",\"MagicCoin\",\"Magnet\",\"Magnetcoin\",\"Magnum\",\"MaidSafeCoin\",\"Maker\",\"Mao Zedong\",\"Marijuanacoin\",\"Marscoin\",\"MarteXcoin\",\"MarxCoin\",\"Master Swiscoin\",\"Masternodecoin\",\"Matchpool\",\"Matryx\",\"Mavro\",\"MaxCoin\",\"MazaCoin\",\"Measurable Data Token\",\"MediShares\",\"Medibloc\",\"Megacoin\",\"Melon\",\"Memetic / PepeCoin\",\"Mercury\",\"Mercury Protocol\",\"MergeCoin\",\"Metal\",\"Metal Music Coin\",\"MetalCoin\",\"Metaverse ETP\",\"MicroMoney\",\"MiloCoin\",\"Mincoin\",\"MindCoin\",\"Minereum\",\"Miners' Reward Token\",\"Mineum\",\"Minex\",\"MinexCoin\",\"Mintcoin\",\"Mixin\",\"MobileCash\",\"MobileGo\",\"Modum\",\"Moeda Loyalty Points\",\"Moin\",\"MojoCoin\",\"MonaCoin\",\"Monaco\",\"Monero\",\"Moneta\",\"MonetaryUnit\",\"Monetha\",\"Money\",\"MoneyCoin\",\"Monkey Project\",\"Monoeci\",\"Monster Byte\",\"Mooncoin\",\"MorningStar\",\"Mothership\",\"Motocoin\",\"Musicoin\",\"Musiconomi\",\"MustangCoin\",\"Mutual Coin\",\"MyBit Token\",\"MyWish\",\"Myriad\",\"Mysterium\",\"NAGA\",\"NAV Coin\",\"NEM\",\"NEO\",\"NEO GOLD\",\"NEVERDIE\",\"NVO\",\"Namecoin\",\"NamoCoin\",\"Natcoin\",\"Neblio\",\"Nebulas\",\"Nekonium\",\"NeosCoin\",\"NetCoin\",\"Netko\",\"Network Token\",\"Neumark\",\"Neuro\",\"Neutron\",\"NevaCoin\",\"NewYorkCoin\",\"Newbium\",\"Nexium\",\"Nexus\",\"Nimfamoney\",\"Nimiq\",\"NoLimitCoin\",\"NobleCoin\",\"NodeCoin\",\"Novacoin\",\"NuBits\",\"NuShares\",\"Nuls\",\"Numeraire\",\"Numus\",\"NumusCash\",\"Nxt\",\"Nyancoin\",\"OAX\",\"OBITS\",\"OCOW\",\"OKCash\",\"OP Coin\",\"OX Fina\",\"Obsidian\",\"Oceanlab\",\"Octanox\",\"OctoCoin\",\"Olympus Labs\",\"Omicron\",\"OmiseGO\",\"Omni\",\"Onix\",\"Opal\",\"Open Trading Network\",\"Operand\",\"Opescoin\",\"Opus\",\"OracleChain\",\"Orbitcoin\",\"Orlycoin\",\"Ormeus Coin\",\"OsmiumCoin\",\"Oxycoin\",\"Oyster Pearl\",\"P7Coin\",\"PACcoin\",\"PIECoin\",\"PIVX\",\"PLNcoin\",\"POLY AI\",\"PRCoin\",\"PRIZM\",\"PX\",\"Pabyosi Coin (Special)\",\"Pakcoin\",\"Pandacoin\",\"Paragon\",\"ParallelCoin\",\"ParkByte\",\"Particl\",\"Pascal Coin\",\"Pascal Lite\",\"Patientory\",\"PayCoin\",\"PayCon\",\"PayPeer\",\"PayPie\",\"Payfair\",\"Paypex\",\"Peacecoin\",\"PeepCoin\",\"Peercoin\",\"Peerplays\",\"PeopleCoin\",\"Pepe Cash\",\"Pesetacoin\",\"PetroDollar\",\"Phantomx\",\"Philosopher Stones\",\"Phoenixcoin\",\"Phore\",\"Photon\",\"Piggycoin\",\"Pillar\",\"PinkCoin\",\"PinkDog\",\"Pioneer Coin\",\"PiplCoin\",\"Pirate Blocks\",\"Pirl\",\"PizzaCoin\",\"PlatinumBAR\",\"PlayerCoin\",\"Playkey\",\"PlexCoin\",\"PlusCoin\",\"Pluton\",\"Po.et\",\"PoSToken\",\"PoSW Coin\",\"PokeCoin\",\"Polybius\",\"PonziCoin\",\"PopularCoin\",\"Populous\",\"PosEx\",\"PostCoin\",\"PotCoin\",\"Power Ledger\",\"Presearch\",\"President Johnson\",\"President Trump\",\"Primalbase Token\",\"Primas\",\"Prime-XI\",\"Primecoin\",\"Primulon\",\"Printerium\",\"PrismChain\",\"Privatix\",\"ProChain\",\"ProCurrency\",\"Project Decorum\",\"Project-X\",\"Propy\",\"Prospectors Gold\",\"Protean\",\"Prototanium\",\"Psilocybin\",\"Publica\",\"Pulse\",\"Pura\",\"Pure\",\"PureVidz\",\"PutinCoin\",\"Pylon Network\",\"QASH\",\"QLINK\",\"Qbao\",\"Qibuck Asset\",\"Qora\",\"Qtum\",\"Quantstamp\",\"Quantum\",\"Quantum Resistant Ledger\",\"Quark\",\"Quatloo\",\"QuazarCoin\",\"QubitCoin\",\"Quebecoin\",\"Quotient\",\"Qvolta\",\"Qwark\",\"RChain\",\"REAL\",\"REX\",\"RHFCoin\",\"RSGPcoin\",\"RabbitCoin\",\"Radium\",\"RaiBlocks\",\"Raiden Network Token\",\"Rasputin Online Coin\",\"Ratecoin\",\"Rawcoin\",\"Rcoin\",\"Red Pulse\",\"RedCoin\",\"ReddCoin\",\"ReeCoin\",\"Regacoin\",\"Regalcoin\",\"Remicoin\",\"Renos\",\"Request Network\",\"Revain\",\"RevolverCoin\",\"Rialto\",\"RichCoin\",\"Ride My Car\",\"Riecoin\",\"Rimbit\",\"Ripio Credit Network\",\"Ripple\",\"Ripto Bux\",\"Rise\",\"Rivetz\",\"RonPaulCoin\",\"Roofs\",\"RouletteToken\",\"Royal Kingdom Coin\",\"RoyalCoin\",\"Royalties\",\"Rubies\",\"RubleBit\",\"Rubycoin\",\"Runners\",\"Rupaya\",\"Rupaya [OLD]\",\"Rupee\",\"RussiaCoin\",\"Russian Miner Coin\",\"Rustbits\",\"SACoin\",\"SALT\",\"SHACoin\",\"SHIELD\",\"SIBCoin\",\"SIGMAcoin\",\"SIRIN LABS Token\",\"SISA\",\"SOILcoin\",\"SONM\",\"STEX\",\"STRAKS\",\"Safe Exchange Coin\",\"Safe Trade Coin\",\"SafeCoin\",\"SagaCoin\",\"Sakuracoin\",\"SaluS\",\"Sand Coin\",\"Santa Coin\",\"Santiment Network Token\",\"Sativacoin\",\"SatoshiMadness\",\"Save and Gain\",\"Scorecoin\",\"SecretCoin\",\"SecureCoin\",\"SegWit2x [Futures]\",\"Selfiecoin\",\"Senderon\",\"Sequence\",\"Sexcoin\",\"Shadow Token\",\"ShadowCash\",\"Sharechain\",\"Sharkcoin\",\"ShellCoin\",\"Shift\",\"Shilling\",\"Shorty\",\"Siacoin\",\"Signatum\",\"Simple Token\",\"SingularDTV\",\"SixEleven\",\"Skeincoin\",\"SkinCoin\",\"Skycoin\",\"Slevin\",\"Sling\",\"Smart Investment Fund Token\",\"SmartBillions\",\"SmartCash\",\"SmartCoin\",\"SmartMesh\",\"SmileyCoin\",\"SnakeEyes\",\"Snovio\",\"Soarcoin\",\"Social\",\"Social Send\",\"SocialCoin\",\"Sojourn\",\"SolarCoin\",\"Solarflarecoin\",\"Solaris\",\"Soma\",\"SongCoin\",\"SoonCoin\",\"SophiaTX\",\"Sovereign Hero\",\"SpaceCoin\",\"SpankChain\",\"Spectrecoin\",\"Speedcash\",\"Sphere\",\"Sphre AIR \",\"SportsCoin\",\"SportyFi\",\"Spots\",\"SpreadCoin\",\"Sprouts\",\"SproutsExtreme\",\"StarCash Network\",\"StarCredits\",\"Starbase\",\"Starta\",\"Startcoin\",\"Status\",\"Stealthcoin\",\"Steem\",\"Steem Dollars\",\"Stellar\",\"Steps\",\"Sterlingcoin\",\"Storj\",\"Storjcoin X\",\"Storm\",\"Stox\",\"Stratis\",\"Streamr DATAcoin\",\"Stress\",\"StrikeBitClub\",\"StrongHands\",\"Substratum\",\"Sugar Exchange\",\"Sumokoin\",\"SunContract\",\"Super Bitcoin\",\"SuperCoin\",\"SuperNET\",\"Suretly\",\"SwagBucks\",\"SwapToken\",\"Swapcoin\",\"Swarm City\",\"SwftCoin\",\"Swing\",\"SydPak\",\"Syndicate\",\"Synereo\",\"Synergy\",\"Syscoin\",\"T-coin\",\"TAGRcoin\",\"TEKcoin\",\"TIES Network\",\"TRON\",\"TaaS\",\"TagCoin\",\"TajCoin\",\"Tao\",\"Target Coin\",\"Tattoocoin (Limited Edition)\",\"Tattoocoin (Standard Edition)\",\"TeamUp\",\"TechShares\",\"Tellurion\",\"TenX\",\"TeraCoin\",\"TerraNova\",\"Terracoin\",\"TeslaCoilCoin\",\"TeslaCoin\",\"Tether\",\"Tezos (Pre-Launch)\",\"The ChampCoin\",\"The Cypherfunks\",\"The Vegan Initiative\",\"TheCreed\",\"TheGCCcoin\",\"Theresa May Coin\",\"Tierion\",\"Tigercoin\",\"Time New Bank\",\"Titcoin\",\"TittieCoin\",\"ToaCoin\",\"TodayCoin\",\"TokenCard\",\"Tokes\",\"Tokugawa\",\"TopCoin\",\"Topaz Coin\",\"Torcoin\",\"Tracto\",\"TransferCoin\",\"TrezarCoin\",\"Triaconta\",\"Triangles\",\"TrickyCoin\",\"Trident Group\",\"Triggers\",\"Tristar Coin\",\"Trollcoin\",\"Truckcoin\",\"TrueFlip\",\"TrumpCoin\",\"TrustPlus\",\"TurboCoin\",\"Tychocoin\",\"UAHPay\",\"UFO Coin\",\"UG Token\",\"UGAIN\",\"UNCoin\",\"UR\",\"USDe\",\"UTRUST\",\"Ubiq\",\"Ulatech\",\"Ultimate Secure Cash\",\"UltraCoin\",\"UnbreakableCoin\",\"UniCoin\",\"Unify\",\"Unikoin Gold\",\"United Bitcoin\",\"Unitus\",\"Unity Ingot\",\"Universal Currency\",\"UniversalRoyalCoin\",\"Universe\",\"Unobtanium\",\"Unrealcoin\",\"Upfiring\",\"Uquid Coin\",\"Uro\",\"Useless Ethereum Token\",\"UtaCoin\",\"VIBE\",\"VIP Tokens\",\"VIVO\",\"VPNCoin\",\"Valorbit\",\"VapersCoin\",\"Vault Coin\",\"Vcash\",\"VeChain\",\"VectorAI\",\"Veltor\",\"Verge\",\"VeriCoin\",\"Verify\",\"Veritaseum\",\"VeriumReserve\",\"Veros\",\"Version\",\"Vertcoin\",\"Viacoin\",\"Viberate\",\"Virta Unique Coin\",\"Virtacoin\",\"Virtacoinplus\",\"VirtualCoin\",\"Visio\",\"Viuly\",\"Voise\",\"VoteCoin\",\"Voxels\",\"Voyacoin\",\"Vsync\",\"Vulcano\",\"WA Space\",\"WARP\",\"WAX\",\"WINCOIN\",\"WMCoin\",\"WaBi\",\"Wagerr\",\"Walton\",\"WandX\",\"Waves\",\"Waves Community Token\",\"WavesGo\",\"WayGuide\",\"WaykiChain\",\"WeAreSatoshi\",\"WeTrust\",\"WhaleCoin\",\"WhiteCoin\",\"Wi Coin\",\"Wild Beast Block\",\"Wild Crypto\",\"Wings\",\"Wink\",\"WomenCoin\",\"Woodcoin\",\"WorldCoin\",\"Worldcore\",\"Wowcoin\",\"Wyvern\",\"X-Coin\",\"X2\",\"XDE II\",\"XGOX\",\"XPlay\",\"XTD Coin\",\"XTRABYTES\",\"XYLO\",\"Xaucoin\",\"Xaurum\",\"Xenon\",\"Xios\",\"Xonecoin\",\"YENTEN\",\"YOYOW\",\"Yacoin\",\"YashCoin\",\"Yellow Token\",\"Yescoin\",\"Yocoin\",\"ZClassic\",\"ZCoin\",\"ZSEcoin\",\"Zayedcoin\",\"Zcash\",\"Zeitcoin\",\"ZenCash\",\"ZenGold\",\"Zennies\",\"Zephyr\",\"Zero\",\"ZetaMicron\",\"Zetacoin\",\"Zeusshield\",\"Zilbercoin\",\"Zlancer\",\"ZoZoCoin\",\"Zoin\",\"Zonecoin\",\"ZrCoin\",\"Zurcoin\",\"adToken\",\"aelf\",\"bitBTC\",\"bitCNY\",\"bitEUR\",\"bitGold\",\"bitJob\",\"bitSilver\",\"bitUSD\",\"bitqy\",\"district0x\",\"e-Gulden\",\"eBIT\",\"eBitcoin\",\"eBitcoinCash\",\"eBoost\",\"eGold\",\"eLTC\",\"eREAL\",\"eUSD\",\"iBTC\",\"iBank\",\"iCoin\",\"iDice\",\"iEthereum\",\"iExec RLC\",\"iQuant\",\"iTicoin\",\"iXledger\",\"netBit\",\"onG.social\",\"vSlice\",\"vTorrent\"],\"std\":{\"__ndarray__\":\"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\",\"dtype\":\"float64\",\"shape\":[1397]}}},\"id\":\"af623eba-a39e-49e0-80ec-228e047ce404\",\"type\":\"ColumnDataSource\"},{\"attributes\":{\"fill_alpha\":{\"value\":0.1},\"fill_color\":{\"value\":\"#1f77b4\"},\"line_alpha\":{\"value\":0.1},\"line_color\":{\"value\":\"#1f77b4\"},\"size\":{\"units\":\"screen\",\"value\":15},\"x\":{\"field\":\"std\"},\"y\":{\"field\":\"avg\"}},\"id\":\"9d08d0a8-2883-41cb-b5af-04cedf07b5d0\",\"type\":\"InvertedTriangle\"},{\"attributes\":{},\"id\":\"8664f820-0ad4-4237-845c-0571afb2e7cb\",\"type\":\"BasicTicker\"},{\"attributes\":{},\"id\":\"21470448-1c0a-4032-b7a4-3bb7b3aae95a\",\"type\":\"WheelZoomTool\"},{\"attributes\":{},\"id\":\"acfebd0e-9427-4213-b7c5-9f17f11f7f3e\",\"type\":\"PanTool\"},{\"attributes\":{},\"id\":\"67e05b9a-4e45-43f1-8699-84bfd2830597\",\"type\":\"HelpTool\"}],\"root_ids\":[\"d99425b7-70f1-4af0-b333-f9bac8bc52b6\"]},\"title\":\"Bokeh Application\",\"version\":\"0.12.13\"}};\n",
       "  var render_items = [{\"docid\":\"23ae934c-ca15-4b2b-b424-8133c64bdd34\",\"elementid\":\"9890ea42-7fe5-4e5d-9a9e-c3dbc2217ff6\",\"modelid\":\"d99425b7-70f1-4af0-b333-f9bac8bc52b6\"}];\n",
       "  root.Bokeh.embed.embed_items_notebook(docs_json, render_items);\n",
       "\n",
       "  }\n",
       "  if (root.Bokeh !== undefined) {\n",
       "    embed_document(root);\n",
       "  } else {\n",
       "    var attempts = 0;\n",
       "    var timer = setInterval(function(root) {\n",
       "      if (root.Bokeh !== undefined) {\n",
       "        embed_document(root);\n",
       "        clearInterval(timer);\n",
       "      }\n",
       "      attempts++;\n",
       "      if (attempts > 100) {\n",
       "        console.log(\"Bokeh: ERROR: Unable to run BokehJS code because BokehJS library is missing\")\n",
       "        clearInterval(timer);\n",
       "      }\n",
       "    }, 10, root)\n",
       "  }\n",
       "})(window);"
      ],
      "application/vnd.bokehjs_exec.v0+json": ""
     },
     "metadata": {
      "application/vnd.bokehjs_exec.v0+json": {
       "id": "d99425b7-70f1-4af0-b333-f9bac8bc52b6"
      }
     },
     "output_type": "display_data"
    }
   ],
   "source": [
    "# Let us make an interactive plot using Bokeh\n",
    "output_notebook() #comment this part out if you want it to show on another tab\n",
    "source = ColumnDataSource(avg_std_dr)\n",
    "p = figure(plot_width=1000 , y_axis_label='Average daily return', x_axis_label='Std. dev. of daily returns', y_range=(-0.05,0.2), x_range=(0,1), title='avg/std relations for each cryptocurrency')\n",
    "p.circle(y='avg', x='std', source=source, size=5)\n",
    "\n",
    "source1 = ColumnDataSource(avg_std_BER)\n",
    "p.inverted_triangle(y='avg', x='std', source=source1, size=15, fill_color='colors', line_color='black')\n",
    "\n",
    "hover = HoverTool(tooltips=[('Currency','@name')])\n",
    "p.add_tools(hover)\n",
    "show(p)"
   ]
  },
  {
   "cell_type": "markdown",
   "metadata": {},
   "source": [
    "Being economists, we immediately feel the urge to plot a regression line through a scatter plot. Therefore, we will estimate a regression line using numpy's polyfit function, print its slope and intersect, and plot it in our scatter plot. "
   ]
  },
  {
   "cell_type": "markdown",
   "metadata": {},
   "source": [
    "<a id='regression'></a>"
   ]
  },
  {
   "cell_type": "code",
   "execution_count": 22,
   "metadata": {},
   "outputs": [
    {
     "name": "stdout",
     "output_type": "stream",
     "text": [
      "slope = 0.13692\n",
      "intercept = 0.00680\n"
     ]
    },
    {
     "data": {
      "image/png": "[encoded data removed]",
      "text/plain": [
       "<matplotlib.figure.Figure at 0x116ed2860>"
      ]
     },
     "metadata": {},
     "output_type": "display_data"
    }
   ],
   "source": [
    "# Getting rid of some outliers\n",
    "avg_std_dr = avg_std_dr[avg_std_dr['avg']<0.5]\n",
    "avg_std_dr = avg_std_dr[avg_std_dr['std']<4]\n",
    "\n",
    "# How is the average related to the standard deviation?\n",
    "_ = plt.plot(avg_std_dr['std'], avg_std_dr['avg'], marker='.', linestyle='none')\n",
    "_ = plt.ylim(-0.05,0.4)\n",
    "_ = plt.xlim(0,2)\n",
    "_ = plt.ylabel('Average daily return')\n",
    "_ = plt.xlabel('Std. dev. of daily returns')\n",
    "_ = plt.title('Regression line')\n",
    "\n",
    "a, b = np.polyfit(avg_std_dr['std'], avg_std_dr['avg'],1)\n",
    "\n",
    "print('slope = %.5f'% a)\n",
    "print('intercept = %.5f'% b)\n",
    "\n",
    "x = np.array([-1,4])\n",
    "y = a * x + b\n",
    "\n",
    "_ = plt.plot(x,y)\n",
    "plt.show()"
   ]
  },
  {
   "cell_type": "markdown",
   "metadata": {},
   "source": [
    "We can clearly see that there is a positive relation between risk and return in the market for cryptocurrencies. The polyfit estimation gives us an estimated \"risk-free\" daily return of 0.6%, which clearly is very high. \n",
    "\n",
    "## Predicting prices using price history\n",
    "\n",
    "We will now go on to predict future prices of cryptocurrencies using historical pricing data. As said before, this method may not be highly reliable as future prices may not be based on past prices, but we will do it anyway.\n",
    "\n",
    "We will start of by using data of a currency, Bitcoin in this case. We will take closing prices and volumes, construct a new column showing the percentage increase of daily maximum prices compared to daily minimum prices, and another column showing closing versus opening price increases. This data is used as features, the machine learning algorithm uses features to predict labels. We will construct a new column called 'label', this column consists of closing prices shifted backward in time with a provided number of days. "
   ]
  },
  {
   "cell_type": "code",
   "execution_count": 23,
   "metadata": {
    "scrolled": true
   },
   "outputs": [
    {
     "data": {
      "text/html": [
       "<div>\n",
       "<style scoped>\n",
       "    .dataframe tbody tr th:only-of-type {\n",
       "        vertical-align: middle;\n",
       "    }\n",
       "\n",
       "    .dataframe tbody tr th {\n",
       "        vertical-align: top;\n",
       "    }\n",
       "\n",
       "    .dataframe thead th {\n",
       "        text-align: right;\n",
       "    }\n",
       "</style>\n",
       "<table border=\"1\" class=\"dataframe\">\n",
       "  <thead>\n",
       "    <tr style=\"text-align: right;\">\n",
       "      <th></th>\n",
       "      <th>close</th>\n",
       "      <th>HL_PCT</th>\n",
       "      <th>CO_PCT</th>\n",
       "      <th>volume</th>\n",
       "      <th>label</th>\n",
       "    </tr>\n",
       "    <tr>\n",
       "      <th>date</th>\n",
       "      <th></th>\n",
       "      <th></th>\n",
       "      <th></th>\n",
       "      <th></th>\n",
       "      <th></th>\n",
       "    </tr>\n",
       "  </thead>\n",
       "  <tbody>\n",
       "    <tr>\n",
       "      <th>2018-01-06</th>\n",
       "      <td>17527.0</td>\n",
       "      <td>5.653580</td>\n",
       "      <td>0.371662</td>\n",
       "      <td>18314600000</td>\n",
       "      <td>NaN</td>\n",
       "    </tr>\n",
       "    <tr>\n",
       "      <th>2018-01-07</th>\n",
       "      <td>16477.6</td>\n",
       "      <td>9.273544</td>\n",
       "      <td>-5.988943</td>\n",
       "      <td>15866000000</td>\n",
       "      <td>NaN</td>\n",
       "    </tr>\n",
       "    <tr>\n",
       "      <th>2018-01-08</th>\n",
       "      <td>15170.1</td>\n",
       "      <td>16.396869</td>\n",
       "      <td>-7.927192</td>\n",
       "      <td>18413900000</td>\n",
       "      <td>NaN</td>\n",
       "    </tr>\n",
       "    <tr>\n",
       "      <th>2018-01-09</th>\n",
       "      <td>14595.4</td>\n",
       "      <td>7.442457</td>\n",
       "      <td>-3.493193</td>\n",
       "      <td>16660000000</td>\n",
       "      <td>NaN</td>\n",
       "    </tr>\n",
       "    <tr>\n",
       "      <th>2018-01-10</th>\n",
       "      <td>14973.3</td>\n",
       "      <td>9.364409</td>\n",
       "      <td>2.637694</td>\n",
       "      <td>18500800000</td>\n",
       "      <td>NaN</td>\n",
       "    </tr>\n",
       "  </tbody>\n",
       "</table>\n",
       "</div>"
      ],
      "text/plain": [
       "              close     HL_PCT    CO_PCT       volume  label\n",
       "date                                                        \n",
       "2018-01-06  17527.0   5.653580  0.371662  18314600000    NaN\n",
       "2018-01-07  16477.6   9.273544 -5.988943  15866000000    NaN\n",
       "2018-01-08  15170.1  16.396869 -7.927192  18413900000    NaN\n",
       "2018-01-09  14595.4   7.442457 -3.493193  16660000000    NaN\n",
       "2018-01-10  14973.3   9.364409  2.637694  18500800000    NaN"
      ]
     },
     "execution_count": 23,
     "metadata": {},
     "output_type": "execute_result"
    }
   ],
   "source": [
    "# Let us try to predict Bitcoin prices\n",
    "bit = df1[df1.symbol == 'BTC'].drop(['ranknow','close_ratio','slug','symbol','name'], axis=1)\n",
    "bit['HL_PCT'] = 100*(bit.high - bit.low) / bit.low\n",
    "bit['CO_PCT'] = 100*(bit.close - bit.open) / bit.open\n",
    "bit = bit.set_index('date')\n",
    "bit = bit[['close','HL_PCT','CO_PCT','volume']]\n",
    "\n",
    "# Chosing 20 days as number of forecast days\n",
    "forecast_out = int(20)\n",
    "bit['label'] = bit['close'].shift(-forecast_out)\n",
    "\n",
    "# We now have 20 days of missing labels \n",
    "bit.tail()"
   ]
  },
  {
   "cell_type": "markdown",
   "metadata": {},
   "source": [
    "Note that due to shifting, the bottom 20 entries of the dataframe have a missing value in the label column. These missing values represent the entries of the label column that we will predict using our algorithm. "
   ]
  },
  {
   "cell_type": "code",
   "execution_count": 24,
   "metadata": {},
   "outputs": [],
   "source": [
    "# We define a matrix of features\n",
    "X = np.array(bit.drop(['label'], 1))\n",
    "\n",
    "# Center to the mean and component wise scale to unit variance\n",
    "X = scale(X)\n",
    "\n",
    "# Split the rows for which we do not have label data\n",
    "X_forecast_out = X[-forecast_out:]\n",
    "X = X[:-forecast_out]\n",
    "\n",
    "# Define label vector\n",
    "y = np.array(bit['label'])\n",
    "y = y[:-forecast_out]\n",
    "\n",
    "# Check whether X and y are equal in lenght (if this is not the case we get an error)\n",
    "assert(len(X)==len(y))"
   ]
  },
  {
   "cell_type": "markdown",
   "metadata": {},
   "source": [
    "We have now defined the features and labels. Furthermore we have made sure that there are as many sets of features for which we have label data as there are label data. \n",
    "\n",
    "We will estimate how good of a fit we may expect our model to provide by splitting our data into training and test data and checking whether predictions for testing data were in line with their actual values. We will use a linear regression model."
   ]
  },
  {
   "cell_type": "code",
   "execution_count": 25,
   "metadata": {},
   "outputs": [
    {
     "name": "stdout",
     "output_type": "stream",
     "text": [
      "Accuracy of Linear Regression:  0.8423100850322803\n"
     ]
    }
   ],
   "source": [
    "# We split the data into training and test data\n",
    "# test_size = 0.2 ==> 20% data is test data\n",
    "X_train, X_test, y_train, y_test = train_test_split(X, y, test_size = 0.20)\n",
    "\n",
    "# We fit the model to the training data and test it on the test data\n",
    "clf = LinearRegression()\n",
    "clf.fit(X_train,y_train)\n",
    "\n",
    "accuracy = max(clf.score(X_test, y_test),0)\n",
    "print(\"Accuracy of Linear Regression: \", accuracy)"
   ]
  },
  {
   "cell_type": "markdown",
   "metadata": {},
   "source": [
    "Accuracy is defined as the fraction of correct predictions within the test set. \n",
    "The model did reasonably well in predicting the test data, let us now attempt to predict 30 days into the future.   "
   ]
  },
  {
   "cell_type": "code",
   "execution_count": 26,
   "metadata": {
    "scrolled": false
   },
   "outputs": [
    {
     "name": "stdout",
     "output_type": "stream",
     "text": [
      "[ 9274.02186539 15181.96565928 15039.00376975 15455.31612455\n",
      " 17300.99461024 17347.19313163 15624.52435227 14918.99313784\n",
      " 11957.92570863 14883.62013159 15070.43773239 13482.52941802\n",
      " 13314.38939431 11065.27545157 12969.55744845 16120.69823402\n",
      " 16173.87056959 12873.85870779 12632.63442278 12142.68696835]\n"
     ]
    }
   ],
   "source": [
    "forecast_prediction = clf.predict(X_forecast_out)\n",
    "\n",
    "print(forecast_prediction)\n",
    "\n",
    "last_date = bit.iloc[-1].name\n",
    "\n",
    "forecast = pd.DataFrame(forecast_prediction)\n",
    "forecast['date'] = pd.date_range(last_date + timedelta(days=1) , periods=forecast_out, freq='D')\n",
    "forecast.set_index(['date'], inplace=True)\n",
    "\n",
    "forecast['BTC Prediction'] = forecast.loc[:,0]\n",
    "forecast = forecast[['BTC Prediction']]\n",
    "\n",
    "# Prevent the plot to have a discontinuity\n",
    "last_entry = pd.DataFrame(bit.close.iloc[-1], columns=['BTC Prediction'], index=[bit.iloc[-1].name])\n",
    "forecast = last_entry.append(forecast)"
   ]
  },
  {
   "cell_type": "markdown",
   "metadata": {},
   "source": [
    "This prediction does not tell us very much without a plot, so let us plot it along the historical data."
   ]
  },
  {
   "cell_type": "code",
   "execution_count": 27,
   "metadata": {},
   "outputs": [
    {
     "data": {
      "image/png": "[encoded data removed]",
      "text/plain": [
       "<matplotlib.figure.Figure at 0x116ef3cf8>"
      ]
     },
     "metadata": {},
     "output_type": "display_data"
    }
   ],
   "source": [
    "ax = bit['close'].plot(color=\"green\", label='BTC Price')\n",
    "forecast.plot(color=\"orange\", label='BTC Prediction', ax=ax)\n",
    "plt.legend()\n",
    "plt.xlabel('Date')\n",
    "plt.ylabel('Price')\n",
    "plt.title('Price Prediction of Bitcoin')\n",
    "plt.show()\n"
   ]
  },
  {
   "cell_type": "markdown",
   "metadata": {},
   "source": [
    "Note that this model does not know whether Bitcoin is a bubble, it therefore predicts the future only knowing the past prices and not knowing about anything else. The model will therefore predict the prices of Bitcoin to explode in the further future as it did in the past, it is very likely that this is an unrealistic scenario. \n",
    "\n",
    "Furthermore, the model allows prices to be negative, this is unrealistic as well.\n",
    "\n",
    "We have now seen predictions for Bitcoin for 30 days into the future. Naturally, we would like to see predictions for any currency, for any number of days into the future. This can easily be made possible by defining a function. The function uses the same code as the example shown above, it takes two inputs: the symbol of any currency, and the number of days to predict. "
   ]
  },
  {
   "cell_type": "code",
   "execution_count": 28,
   "metadata": {},
   "outputs": [],
   "source": [
    "# Let us define a function which outputs the graph shown above for a given number of future periods\n",
    "def plot_future(n, coin):\n",
    "    # Let us try to predict Bitcoin prices\n",
    "    bit = df1[df1.symbol == coin].drop(['ranknow','close_ratio','slug','symbol','name'], axis=1)\n",
    "    bit['HL_PCT'] = 100*(bit.high - bit.low) / bit.low\n",
    "    bit['CO_PCT'] = 100*(bit.close - bit.open) / bit.open\n",
    "    bit = bit.set_index('date')\n",
    "    bit = bit[['close','HL_PCT','CO_PCT','volume']]\n",
    "    \n",
    "    # Chosing n days as number of forecast days\n",
    "    forecast_out = int(n)\n",
    "    bit['label'] = bit['close'].shift(-forecast_out)\n",
    "    \n",
    "    # We now have n days of missing labels \n",
    "    # We define a matrix of features\n",
    "    X = np.array(bit.drop(['label'], 1))\n",
    "    \n",
    "    # Center to the mean and component wise scale to unit variance\n",
    "    X = scale(X)\n",
    "    \n",
    "    # Split the rows for which we do not have label data\n",
    "    X_forecast_out = X[-forecast_out:]\n",
    "    X = X[:-forecast_out]\n",
    "    \n",
    "    # Define label vector\n",
    "    y = np.array(bit['label'])\n",
    "    y = y[:-forecast_out]\n",
    "    \n",
    "    # Check whether X and y are equal in lenght (if this is not the case we get an error)\n",
    "    assert(len(X)==len(y))\n",
    "    \n",
    "    # We split the data into training and test data\n",
    "    # test_size = 0.2 ==> 20% data is test data\n",
    "    X_train, X_test, y_train, y_test = train_test_split(X, y, test_size = 0.20)\n",
    "    \n",
    "    # We fit the model to the training data and test it on the test data\n",
    "    clf = LinearRegression()\n",
    "    clf.fit(X_train,y_train)\n",
    "    \n",
    "    accuracy = max(clf.score(X_test, y_test),0.)\n",
    "    print(\"Accuracy of Linear Regression: %.5f\"% accuracy)\n",
    "    forecast_prediction = clf.predict(X_forecast_out)\n",
    "\n",
    "    last_date = bit.iloc[-1].name\n",
    "    \n",
    "    forecast = pd.DataFrame(forecast_prediction)\n",
    "    forecast['date'] = pd.date_range(last_date + timedelta(days=1) , periods=forecast_out, freq='D')\n",
    "    forecast.set_index(['date'], inplace=True)\n",
    "    \n",
    "    forecast['Prediction'] = forecast.loc[:,0]\n",
    "    forecast = forecast[['Prediction']]\n",
    "    \n",
    "    # Prevent the plot to have a discontinuity\n",
    "    last_entry = pd.DataFrame(bit.close.iloc[-1], columns=['Prediction'], index=[bit.iloc[-1].name])\n",
    "    forecast = last_entry.append(forecast)\n",
    "    \n",
    "    ax = bit['close'].plot(color=\"green\", label='Price')\n",
    "    forecast.plot(color=\"orange\", label='Prediction', ax=ax)\n",
    "    plt.legend()\n",
    "    plt.xlabel('Date')\n",
    "    plt.ylabel('Price')\n",
    "    plt.title('Price Prediction of '+coin)\n",
    "    plt.show()"
   ]
  },
  {
   "cell_type": "markdown",
   "metadata": {},
   "source": [
    "Let us use the function to show Bitcoin predictions 200 days into the future."
   ]
  },
  {
   "cell_type": "code",
   "execution_count": 29,
   "metadata": {},
   "outputs": [
    {
     "name": "stdout",
     "output_type": "stream",
     "text": [
      "Accuracy of Linear Regression: 0.90158\n"
     ]
    },
    {
     "data": {
      "image/png": "[encoded data removed]",
      "text/plain": [
       "<matplotlib.figure.Figure at 0x116ee9358>"
      ]
     },
     "metadata": {},
     "output_type": "display_data"
    }
   ],
   "source": [
    "# Let us show what the model predicts 200 days into the future\n",
    "    \n",
    "plot_future(200, 'BTC')"
   ]
  },
  {
   "cell_type": "markdown",
   "metadata": {},
   "source": [
    "As can be seen above, the model predicts BTC prices to explode. Let us plot another currency. Note that the title of the graph changes accordingly. \n",
    "<a id='ripple'></a>"
   ]
  },
  {
   "cell_type": "code",
   "execution_count": 37,
   "metadata": {},
   "outputs": [
    {
     "name": "stdout",
     "output_type": "stream",
     "text": [
      "Accuracy of Linear Regression: 0.27611\n"
     ]
    },
    {
     "data": {
      "image/png": "[encoded data removed]",
      "text/plain": [
       "<matplotlib.figure.Figure at 0x116e67668>"
      ]
     },
     "metadata": {},
     "output_type": "display_data"
    }
   ],
   "source": [
    "plot_future(25,'RPX')"
   ]
  },
  {
   "cell_type": "markdown",
   "metadata": {},
   "source": [
    "Ripple seems to crash at the end of January... (however, accuracy seems pretty low).\n",
    "  \n",
    "<br><br>\n",
    "  \n",
    "[Back to the top of the page?](#begin)"
   ]
  }
 ],
 "metadata": {
  "kernelspec": {
   "display_name": "Python 3",
   "language": "python",
   "name": "python3"
  },
  "language_info": {
   "codemirror_mode": {
    "name": "ipython",
    "version": 3
   },
   "file_extension": ".py",
   "mimetype": "text/x-python",
   "name": "python",
   "nbconvert_exporter": "python",
   "pygments_lexer": "ipython3",
   "version": "3.6.4"
  }
 },
 "nbformat": 4,
 "nbformat_minor": 2
}
